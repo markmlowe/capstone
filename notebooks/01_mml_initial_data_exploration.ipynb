{
 "cells": [
  {
   "cell_type": "code",
   "execution_count": 1,
   "metadata": {},
   "outputs": [
    {
     "name": "stderr",
     "output_type": "stream",
     "text": [
      "c:\\Users\\markm\\anaconda3\\lib\\site-packages\\pandas\\core\\computation\\expressions.py:20: UserWarning: Pandas requires version '2.7.3' or newer of 'numexpr' (version '2.7.1' currently installed).\n",
      "  from pandas.core.computation.check import NUMEXPR_INSTALLED\n"
     ]
    }
   ],
   "source": [
    "# import the propert libraries and load the dataset for modeling\n",
    "\n",
    "import pandas as pd\n",
    "import tensorflow as tf\n",
    "import tensorflow.keras as keras\n",
    "import numpy as np\n",
    "import copy\n",
    "import random as rand\n",
    "\n",
    "data = pd.read_csv(\"c:\\\\Users\\\\markm\\\\Desktop\\\\CAPSTONE\\\\capstone\\\\data\\\\external\\\\watson_healthcare_modified.csv\")"
   ]
  },
  {
   "cell_type": "code",
   "execution_count": 2,
   "metadata": {},
   "outputs": [
    {
     "data": {
      "text/html": [
       "<div>\n",
       "<style scoped>\n",
       "    .dataframe tbody tr th:only-of-type {\n",
       "        vertical-align: middle;\n",
       "    }\n",
       "\n",
       "    .dataframe tbody tr th {\n",
       "        vertical-align: top;\n",
       "    }\n",
       "\n",
       "    .dataframe thead th {\n",
       "        text-align: right;\n",
       "    }\n",
       "</style>\n",
       "<table border=\"1\" class=\"dataframe\">\n",
       "  <thead>\n",
       "    <tr style=\"text-align: right;\">\n",
       "      <th></th>\n",
       "      <th>EmployeeID</th>\n",
       "      <th>Age</th>\n",
       "      <th>Attrition</th>\n",
       "      <th>BusinessTravel</th>\n",
       "      <th>DailyRate</th>\n",
       "      <th>Department</th>\n",
       "      <th>DistanceFromHome</th>\n",
       "      <th>Education</th>\n",
       "      <th>EducationField</th>\n",
       "      <th>EmployeeCount</th>\n",
       "      <th>...</th>\n",
       "      <th>RelationshipSatisfaction</th>\n",
       "      <th>StandardHours</th>\n",
       "      <th>Shift</th>\n",
       "      <th>TotalWorkingYears</th>\n",
       "      <th>TrainingTimesLastYear</th>\n",
       "      <th>WorkLifeBalance</th>\n",
       "      <th>YearsAtCompany</th>\n",
       "      <th>YearsInCurrentRole</th>\n",
       "      <th>YearsSinceLastPromotion</th>\n",
       "      <th>YearsWithCurrManager</th>\n",
       "    </tr>\n",
       "  </thead>\n",
       "  <tbody>\n",
       "    <tr>\n",
       "      <th>0</th>\n",
       "      <td>1313919</td>\n",
       "      <td>41</td>\n",
       "      <td>No</td>\n",
       "      <td>Travel_Rarely</td>\n",
       "      <td>1102</td>\n",
       "      <td>Cardiology</td>\n",
       "      <td>1</td>\n",
       "      <td>2</td>\n",
       "      <td>Life Sciences</td>\n",
       "      <td>1</td>\n",
       "      <td>...</td>\n",
       "      <td>1</td>\n",
       "      <td>80</td>\n",
       "      <td>0</td>\n",
       "      <td>8</td>\n",
       "      <td>0</td>\n",
       "      <td>1</td>\n",
       "      <td>6</td>\n",
       "      <td>4</td>\n",
       "      <td>0</td>\n",
       "      <td>5</td>\n",
       "    </tr>\n",
       "    <tr>\n",
       "      <th>1</th>\n",
       "      <td>1200302</td>\n",
       "      <td>49</td>\n",
       "      <td>No</td>\n",
       "      <td>Travel_Frequently</td>\n",
       "      <td>279</td>\n",
       "      <td>Maternity</td>\n",
       "      <td>8</td>\n",
       "      <td>1</td>\n",
       "      <td>Life Sciences</td>\n",
       "      <td>1</td>\n",
       "      <td>...</td>\n",
       "      <td>4</td>\n",
       "      <td>80</td>\n",
       "      <td>1</td>\n",
       "      <td>10</td>\n",
       "      <td>3</td>\n",
       "      <td>3</td>\n",
       "      <td>10</td>\n",
       "      <td>7</td>\n",
       "      <td>1</td>\n",
       "      <td>7</td>\n",
       "    </tr>\n",
       "    <tr>\n",
       "      <th>2</th>\n",
       "      <td>1060315</td>\n",
       "      <td>37</td>\n",
       "      <td>Yes</td>\n",
       "      <td>Travel_Rarely</td>\n",
       "      <td>1373</td>\n",
       "      <td>Maternity</td>\n",
       "      <td>2</td>\n",
       "      <td>2</td>\n",
       "      <td>Other</td>\n",
       "      <td>1</td>\n",
       "      <td>...</td>\n",
       "      <td>2</td>\n",
       "      <td>80</td>\n",
       "      <td>0</td>\n",
       "      <td>7</td>\n",
       "      <td>3</td>\n",
       "      <td>3</td>\n",
       "      <td>0</td>\n",
       "      <td>0</td>\n",
       "      <td>0</td>\n",
       "      <td>0</td>\n",
       "    </tr>\n",
       "    <tr>\n",
       "      <th>3</th>\n",
       "      <td>1272912</td>\n",
       "      <td>33</td>\n",
       "      <td>No</td>\n",
       "      <td>Travel_Frequently</td>\n",
       "      <td>1392</td>\n",
       "      <td>Maternity</td>\n",
       "      <td>3</td>\n",
       "      <td>4</td>\n",
       "      <td>Life Sciences</td>\n",
       "      <td>1</td>\n",
       "      <td>...</td>\n",
       "      <td>3</td>\n",
       "      <td>80</td>\n",
       "      <td>0</td>\n",
       "      <td>8</td>\n",
       "      <td>3</td>\n",
       "      <td>3</td>\n",
       "      <td>8</td>\n",
       "      <td>7</td>\n",
       "      <td>3</td>\n",
       "      <td>0</td>\n",
       "    </tr>\n",
       "    <tr>\n",
       "      <th>4</th>\n",
       "      <td>1414939</td>\n",
       "      <td>27</td>\n",
       "      <td>No</td>\n",
       "      <td>Travel_Rarely</td>\n",
       "      <td>591</td>\n",
       "      <td>Maternity</td>\n",
       "      <td>2</td>\n",
       "      <td>1</td>\n",
       "      <td>Medical</td>\n",
       "      <td>1</td>\n",
       "      <td>...</td>\n",
       "      <td>4</td>\n",
       "      <td>80</td>\n",
       "      <td>1</td>\n",
       "      <td>6</td>\n",
       "      <td>3</td>\n",
       "      <td>3</td>\n",
       "      <td>2</td>\n",
       "      <td>2</td>\n",
       "      <td>2</td>\n",
       "      <td>2</td>\n",
       "    </tr>\n",
       "  </tbody>\n",
       "</table>\n",
       "<p>5 rows × 35 columns</p>\n",
       "</div>"
      ],
      "text/plain": [
       "   EmployeeID  Age Attrition     BusinessTravel  DailyRate  Department  \\\n",
       "0     1313919   41        No      Travel_Rarely       1102  Cardiology   \n",
       "1     1200302   49        No  Travel_Frequently        279   Maternity   \n",
       "2     1060315   37       Yes      Travel_Rarely       1373   Maternity   \n",
       "3     1272912   33        No  Travel_Frequently       1392   Maternity   \n",
       "4     1414939   27        No      Travel_Rarely        591   Maternity   \n",
       "\n",
       "   DistanceFromHome  Education EducationField  EmployeeCount  ...  \\\n",
       "0                 1          2  Life Sciences              1  ...   \n",
       "1                 8          1  Life Sciences              1  ...   \n",
       "2                 2          2          Other              1  ...   \n",
       "3                 3          4  Life Sciences              1  ...   \n",
       "4                 2          1        Medical              1  ...   \n",
       "\n",
       "   RelationshipSatisfaction StandardHours  Shift  TotalWorkingYears  \\\n",
       "0                         1            80      0                  8   \n",
       "1                         4            80      1                 10   \n",
       "2                         2            80      0                  7   \n",
       "3                         3            80      0                  8   \n",
       "4                         4            80      1                  6   \n",
       "\n",
       "   TrainingTimesLastYear WorkLifeBalance  YearsAtCompany YearsInCurrentRole  \\\n",
       "0                      0               1               6                  4   \n",
       "1                      3               3              10                  7   \n",
       "2                      3               3               0                  0   \n",
       "3                      3               3               8                  7   \n",
       "4                      3               3               2                  2   \n",
       "\n",
       "   YearsSinceLastPromotion  YearsWithCurrManager  \n",
       "0                        0                     5  \n",
       "1                        1                     7  \n",
       "2                        0                     0  \n",
       "3                        3                     0  \n",
       "4                        2                     2  \n",
       "\n",
       "[5 rows x 35 columns]"
      ]
     },
     "execution_count": 2,
     "metadata": {},
     "output_type": "execute_result"
    }
   ],
   "source": [
    "# take a look at the first 5 rows of data for familiarization\n",
    "data.head()\n"
   ]
  },
  {
   "cell_type": "code",
   "execution_count": 3,
   "metadata": {},
   "outputs": [
    {
     "name": "stdout",
     "output_type": "stream",
     "text": [
      "<class 'pandas.core.frame.DataFrame'>\n",
      "RangeIndex: 1676 entries, 0 to 1675\n",
      "Data columns (total 35 columns):\n",
      " #   Column                    Non-Null Count  Dtype \n",
      "---  ------                    --------------  ----- \n",
      " 0   EmployeeID                1676 non-null   int64 \n",
      " 1   Age                       1676 non-null   int64 \n",
      " 2   Attrition                 1676 non-null   object\n",
      " 3   BusinessTravel            1676 non-null   object\n",
      " 4   DailyRate                 1676 non-null   int64 \n",
      " 5   Department                1676 non-null   object\n",
      " 6   DistanceFromHome          1676 non-null   int64 \n",
      " 7   Education                 1676 non-null   int64 \n",
      " 8   EducationField            1676 non-null   object\n",
      " 9   EmployeeCount             1676 non-null   int64 \n",
      " 10  EnvironmentSatisfaction   1676 non-null   int64 \n",
      " 11  Gender                    1676 non-null   object\n",
      " 12  HourlyRate                1676 non-null   int64 \n",
      " 13  JobInvolvement            1676 non-null   int64 \n",
      " 14  JobLevel                  1676 non-null   int64 \n",
      " 15  JobRole                   1676 non-null   object\n",
      " 16  JobSatisfaction           1676 non-null   int64 \n",
      " 17  MaritalStatus             1676 non-null   object\n",
      " 18  MonthlyIncome             1676 non-null   int64 \n",
      " 19  MonthlyRate               1676 non-null   int64 \n",
      " 20  NumCompaniesWorked        1676 non-null   int64 \n",
      " 21  Over18                    1676 non-null   object\n",
      " 22  OverTime                  1676 non-null   object\n",
      " 23  PercentSalaryHike         1676 non-null   int64 \n",
      " 24  PerformanceRating         1676 non-null   int64 \n",
      " 25  RelationshipSatisfaction  1676 non-null   int64 \n",
      " 26  StandardHours             1676 non-null   int64 \n",
      " 27  Shift                     1676 non-null   int64 \n",
      " 28  TotalWorkingYears         1676 non-null   int64 \n",
      " 29  TrainingTimesLastYear     1676 non-null   int64 \n",
      " 30  WorkLifeBalance           1676 non-null   int64 \n",
      " 31  YearsAtCompany            1676 non-null   int64 \n",
      " 32  YearsInCurrentRole        1676 non-null   int64 \n",
      " 33  YearsSinceLastPromotion   1676 non-null   int64 \n",
      " 34  YearsWithCurrManager      1676 non-null   int64 \n",
      "dtypes: int64(26), object(9)\n",
      "memory usage: 458.4+ KB\n"
     ]
    }
   ],
   "source": [
    "# use the .info() call to see the total number of rows, columns, and datatypes of columns.\n",
    "### Open the full output in a text editor if size limit is reached\n",
    "data.info()"
   ]
  },
  {
   "cell_type": "code",
   "execution_count": 4,
   "metadata": {},
   "outputs": [],
   "source": [
    "# let's slice the data into x and y, for building predictive models\n",
    "y = data['Attrition']\n",
    "x = data.drop(columns=['EmployeeID','Attrition'])"
   ]
  },
  {
   "cell_type": "code",
   "execution_count": 5,
   "metadata": {},
   "outputs": [
    {
     "name": "stdout",
     "output_type": "stream",
     "text": [
      "(1676, 33)\n",
      "(1676,)\n"
     ]
    }
   ],
   "source": [
    "# look at the shape of the x and y dataframes to ensure they matchup\n",
    "print(x.shape)\n",
    "print(y.shape)"
   ]
  },
  {
   "cell_type": "code",
   "execution_count": 6,
   "metadata": {},
   "outputs": [
    {
     "data": {
      "text/plain": [
       "No     1477\n",
       "Yes     199\n",
       "Name: Attrition, dtype: int64"
      ]
     },
     "execution_count": 6,
     "metadata": {},
     "output_type": "execute_result"
    }
   ],
   "source": [
    "# look at the target variable to see if we have an imbalanced dataset\n",
    "y.value_counts()"
   ]
  },
  {
   "attachments": {},
   "cell_type": "markdown",
   "metadata": {},
   "source": [
    "#### In this case, we do have an imbalanced dataset because there are ~88% 'No's and ~12% 'Yes's "
   ]
  },
  {
   "cell_type": "code",
   "execution_count": 7,
   "metadata": {},
   "outputs": [],
   "source": [
    "# Change the target variable to quantitative for modeling purposes\n",
    "y.replace('No', 0, inplace=True)\n",
    "y.replace('Yes', 1, inplace = True)"
   ]
  },
  {
   "cell_type": "code",
   "execution_count": 8,
   "metadata": {},
   "outputs": [
    {
     "data": {
      "image/png": "[encoded data removed]",
      "text/plain": [
       "<Figure size 1728x1440 with 25 Axes>"
      ]
     },
     "metadata": {
      "needs_background": "light"
     },
     "output_type": "display_data"
    }
   ],
   "source": [
    "# plot histograms of each numerical value\n",
    "# This will look at variances within each individual feature, allowing us to eliminate features without variance\n",
    "import matplotlib.pyplot as plt\n",
    "\n",
    "#fig = plt.figure(figsize = (20,12))\n",
    "x.hist(figsize = (24,20))\n",
    "\n",
    "plt.show()\n"
   ]
  },
  {
   "cell_type": "code",
   "execution_count": 9,
   "metadata": {},
   "outputs": [
    {
     "data": {
      "image/png": "[encoded data removed]",
      "text/plain": [
       "<Figure size 1440x720 with 2 Axes>"
      ]
     },
     "metadata": {
      "needs_background": "light"
     },
     "output_type": "display_data"
    }
   ],
   "source": [
    "# now let's look at some of the columns with the y value as well\n",
    "fig, ax = plt.subplots(nrows=1, ncols=2, figsize = (20,10))\n",
    "\n",
    "\n",
    "ax[0].scatter(data.Education[data.Attrition==0], data.Age[data.Attrition==0], c='b', label = 'stayed')\n",
    "\n",
    "\n",
    "ax[1].scatter(data.Education[data.Attrition==1], data.Age[data.Attrition==1], c='r', label = 'attrited')\n",
    "\n",
    "\n",
    "ax[0].set_xlabel('Education Level')\n",
    "ax[0].set_ylabel('Age')\n",
    "ax[1].set_xlabel('Education Level')\n",
    "\n",
    "ax[0].set_title('Education level vs Age for Stayed', loc='center')\n",
    "ax[1].set_title('Education level vs Age for Attrition', loc='center')\n",
    "\n",
    "plt.show()"
   ]
  },
  {
   "cell_type": "code",
   "execution_count": 10,
   "metadata": {},
   "outputs": [
    {
     "data": {
      "text/plain": [
       "array(['Y'], dtype=object)"
      ]
     },
     "execution_count": 10,
     "metadata": {},
     "output_type": "execute_result"
    }
   ],
   "source": [
    "# Check the Over18 column to see if there is variation in this feature\n",
    "x.Over18.unique()"
   ]
  },
  {
   "cell_type": "code",
   "execution_count": 11,
   "metadata": {},
   "outputs": [],
   "source": [
    "# based off of this analysis, let's drop 'EmployeeCount' & 'StandardHours' because there is no variance in these features\n",
    "x = x.drop(columns=['Over18','EmployeeCount','StandardHours'], axis=1)"
   ]
  },
  {
   "attachments": {},
   "cell_type": "markdown",
   "metadata": {},
   "source": [
    "## Now that we have initially analyzed the data, let's pass this data into 'LazyClassifier' to figure out which models could work best with the model"
   ]
  },
  {
   "cell_type": "code",
   "execution_count": 12,
   "metadata": {},
   "outputs": [
    {
     "name": "stderr",
     "output_type": "stream",
     "text": [
      "c:\\Users\\markm\\anaconda3\\lib\\site-packages\\dask\\dataframe\\utils.py:367: FutureWarning: pandas.Int64Index is deprecated and will be removed from pandas in a future version. Use pandas.Index with the appropriate dtype instead.\n",
      "  _numeric_index_types = (pd.Int64Index, pd.Float64Index, pd.UInt64Index)\n",
      "c:\\Users\\markm\\anaconda3\\lib\\site-packages\\dask\\dataframe\\utils.py:367: FutureWarning: pandas.Float64Index is deprecated and will be removed from pandas in a future version. Use pandas.Index with the appropriate dtype instead.\n",
      "  _numeric_index_types = (pd.Int64Index, pd.Float64Index, pd.UInt64Index)\n",
      "c:\\Users\\markm\\anaconda3\\lib\\site-packages\\dask\\dataframe\\utils.py:367: FutureWarning: pandas.UInt64Index is deprecated and will be removed from pandas in a future version. Use pandas.Index with the appropriate dtype instead.\n",
      "  _numeric_index_types = (pd.Int64Index, pd.Float64Index, pd.UInt64Index)\n"
     ]
    }
   ],
   "source": [
    "# import the necessary modules \n",
    "from lazypredict.Supervised import LazyClassifier\n",
    "from sklearn.model_selection import train_test_split"
   ]
  },
  {
   "cell_type": "code",
   "execution_count": 13,
   "metadata": {},
   "outputs": [
    {
     "name": "stderr",
     "output_type": "stream",
     "text": [
      "100%|██████████| 29/29 [00:02<00:00, 10.44it/s]\n"
     ]
    },
    {
     "data": {
      "text/html": [
       "<div>\n",
       "<style scoped>\n",
       "    .dataframe tbody tr th:only-of-type {\n",
       "        vertical-align: middle;\n",
       "    }\n",
       "\n",
       "    .dataframe tbody tr th {\n",
       "        vertical-align: top;\n",
       "    }\n",
       "\n",
       "    .dataframe thead th {\n",
       "        text-align: right;\n",
       "    }\n",
       "</style>\n",
       "<table border=\"1\" class=\"dataframe\">\n",
       "  <thead>\n",
       "    <tr style=\"text-align: right;\">\n",
       "      <th></th>\n",
       "      <th>Accuracy</th>\n",
       "      <th>Balanced Accuracy</th>\n",
       "      <th>ROC AUC</th>\n",
       "      <th>F1 Score</th>\n",
       "      <th>Time Taken</th>\n",
       "    </tr>\n",
       "    <tr>\n",
       "      <th>Model</th>\n",
       "      <th></th>\n",
       "      <th></th>\n",
       "      <th></th>\n",
       "      <th></th>\n",
       "      <th></th>\n",
       "    </tr>\n",
       "  </thead>\n",
       "  <tbody>\n",
       "    <tr>\n",
       "      <th>Perceptron</th>\n",
       "      <td>0.88</td>\n",
       "      <td>0.79</td>\n",
       "      <td>0.79</td>\n",
       "      <td>0.89</td>\n",
       "      <td>0.02</td>\n",
       "    </tr>\n",
       "    <tr>\n",
       "      <th>LinearSVC</th>\n",
       "      <td>0.92</td>\n",
       "      <td>0.79</td>\n",
       "      <td>0.79</td>\n",
       "      <td>0.92</td>\n",
       "      <td>0.09</td>\n",
       "    </tr>\n",
       "    <tr>\n",
       "      <th>LogisticRegression</th>\n",
       "      <td>0.92</td>\n",
       "      <td>0.78</td>\n",
       "      <td>0.78</td>\n",
       "      <td>0.92</td>\n",
       "      <td>0.05</td>\n",
       "    </tr>\n",
       "    <tr>\n",
       "      <th>PassiveAggressiveClassifier</th>\n",
       "      <td>0.89</td>\n",
       "      <td>0.78</td>\n",
       "      <td>0.78</td>\n",
       "      <td>0.89</td>\n",
       "      <td>0.03</td>\n",
       "    </tr>\n",
       "    <tr>\n",
       "      <th>AdaBoostClassifier</th>\n",
       "      <td>0.93</td>\n",
       "      <td>0.77</td>\n",
       "      <td>0.77</td>\n",
       "      <td>0.92</td>\n",
       "      <td>0.23</td>\n",
       "    </tr>\n",
       "    <tr>\n",
       "      <th>SGDClassifier</th>\n",
       "      <td>0.91</td>\n",
       "      <td>0.75</td>\n",
       "      <td>0.75</td>\n",
       "      <td>0.90</td>\n",
       "      <td>0.03</td>\n",
       "    </tr>\n",
       "    <tr>\n",
       "      <th>NearestCentroid</th>\n",
       "      <td>0.71</td>\n",
       "      <td>0.74</td>\n",
       "      <td>0.74</td>\n",
       "      <td>0.75</td>\n",
       "      <td>0.11</td>\n",
       "    </tr>\n",
       "    <tr>\n",
       "      <th>CalibratedClassifierCV</th>\n",
       "      <td>0.92</td>\n",
       "      <td>0.74</td>\n",
       "      <td>0.74</td>\n",
       "      <td>0.91</td>\n",
       "      <td>0.17</td>\n",
       "    </tr>\n",
       "    <tr>\n",
       "      <th>LinearDiscriminantAnalysis</th>\n",
       "      <td>0.91</td>\n",
       "      <td>0.73</td>\n",
       "      <td>0.73</td>\n",
       "      <td>0.90</td>\n",
       "      <td>0.11</td>\n",
       "    </tr>\n",
       "    <tr>\n",
       "      <th>BernoulliNB</th>\n",
       "      <td>0.86</td>\n",
       "      <td>0.73</td>\n",
       "      <td>0.73</td>\n",
       "      <td>0.86</td>\n",
       "      <td>0.02</td>\n",
       "    </tr>\n",
       "    <tr>\n",
       "      <th>DecisionTreeClassifier</th>\n",
       "      <td>0.89</td>\n",
       "      <td>0.72</td>\n",
       "      <td>0.72</td>\n",
       "      <td>0.88</td>\n",
       "      <td>0.03</td>\n",
       "    </tr>\n",
       "    <tr>\n",
       "      <th>ExtraTreeClassifier</th>\n",
       "      <td>0.87</td>\n",
       "      <td>0.71</td>\n",
       "      <td>0.71</td>\n",
       "      <td>0.87</td>\n",
       "      <td>0.02</td>\n",
       "    </tr>\n",
       "    <tr>\n",
       "      <th>XGBClassifier</th>\n",
       "      <td>0.91</td>\n",
       "      <td>0.71</td>\n",
       "      <td>0.71</td>\n",
       "      <td>0.90</td>\n",
       "      <td>0.15</td>\n",
       "    </tr>\n",
       "    <tr>\n",
       "      <th>LGBMClassifier</th>\n",
       "      <td>0.90</td>\n",
       "      <td>0.70</td>\n",
       "      <td>0.70</td>\n",
       "      <td>0.89</td>\n",
       "      <td>0.15</td>\n",
       "    </tr>\n",
       "    <tr>\n",
       "      <th>ExtraTreesClassifier</th>\n",
       "      <td>0.90</td>\n",
       "      <td>0.68</td>\n",
       "      <td>0.68</td>\n",
       "      <td>0.89</td>\n",
       "      <td>0.29</td>\n",
       "    </tr>\n",
       "    <tr>\n",
       "      <th>BaggingClassifier</th>\n",
       "      <td>0.89</td>\n",
       "      <td>0.67</td>\n",
       "      <td>0.67</td>\n",
       "      <td>0.88</td>\n",
       "      <td>0.13</td>\n",
       "    </tr>\n",
       "    <tr>\n",
       "      <th>SVC</th>\n",
       "      <td>0.90</td>\n",
       "      <td>0.67</td>\n",
       "      <td>0.67</td>\n",
       "      <td>0.88</td>\n",
       "      <td>0.07</td>\n",
       "    </tr>\n",
       "    <tr>\n",
       "      <th>RandomForestClassifier</th>\n",
       "      <td>0.90</td>\n",
       "      <td>0.65</td>\n",
       "      <td>0.65</td>\n",
       "      <td>0.88</td>\n",
       "      <td>0.37</td>\n",
       "    </tr>\n",
       "    <tr>\n",
       "      <th>LabelSpreading</th>\n",
       "      <td>0.85</td>\n",
       "      <td>0.65</td>\n",
       "      <td>0.65</td>\n",
       "      <td>0.85</td>\n",
       "      <td>0.23</td>\n",
       "    </tr>\n",
       "    <tr>\n",
       "      <th>LabelPropagation</th>\n",
       "      <td>0.85</td>\n",
       "      <td>0.65</td>\n",
       "      <td>0.65</td>\n",
       "      <td>0.85</td>\n",
       "      <td>0.17</td>\n",
       "    </tr>\n",
       "    <tr>\n",
       "      <th>QuadraticDiscriminantAnalysis</th>\n",
       "      <td>0.46</td>\n",
       "      <td>0.64</td>\n",
       "      <td>0.64</td>\n",
       "      <td>0.52</td>\n",
       "      <td>0.03</td>\n",
       "    </tr>\n",
       "    <tr>\n",
       "      <th>GaussianNB</th>\n",
       "      <td>0.40</td>\n",
       "      <td>0.61</td>\n",
       "      <td>0.61</td>\n",
       "      <td>0.46</td>\n",
       "      <td>0.02</td>\n",
       "    </tr>\n",
       "    <tr>\n",
       "      <th>RidgeClassifier</th>\n",
       "      <td>0.89</td>\n",
       "      <td>0.60</td>\n",
       "      <td>0.60</td>\n",
       "      <td>0.85</td>\n",
       "      <td>0.03</td>\n",
       "    </tr>\n",
       "    <tr>\n",
       "      <th>RidgeClassifierCV</th>\n",
       "      <td>0.88</td>\n",
       "      <td>0.59</td>\n",
       "      <td>0.59</td>\n",
       "      <td>0.85</td>\n",
       "      <td>0.03</td>\n",
       "    </tr>\n",
       "    <tr>\n",
       "      <th>KNeighborsClassifier</th>\n",
       "      <td>0.88</td>\n",
       "      <td>0.58</td>\n",
       "      <td>0.58</td>\n",
       "      <td>0.84</td>\n",
       "      <td>0.12</td>\n",
       "    </tr>\n",
       "    <tr>\n",
       "      <th>DummyClassifier</th>\n",
       "      <td>0.86</td>\n",
       "      <td>0.50</td>\n",
       "      <td>0.50</td>\n",
       "      <td>0.80</td>\n",
       "      <td>0.02</td>\n",
       "    </tr>\n",
       "  </tbody>\n",
       "</table>\n",
       "</div>"
      ],
      "text/plain": [
       "                               Accuracy  Balanced Accuracy  ROC AUC  F1 Score  \\\n",
       "Model                                                                           \n",
       "Perceptron                         0.88               0.79     0.79      0.89   \n",
       "LinearSVC                          0.92               0.79     0.79      0.92   \n",
       "LogisticRegression                 0.92               0.78     0.78      0.92   \n",
       "PassiveAggressiveClassifier        0.89               0.78     0.78      0.89   \n",
       "AdaBoostClassifier                 0.93               0.77     0.77      0.92   \n",
       "SGDClassifier                      0.91               0.75     0.75      0.90   \n",
       "NearestCentroid                    0.71               0.74     0.74      0.75   \n",
       "CalibratedClassifierCV             0.92               0.74     0.74      0.91   \n",
       "LinearDiscriminantAnalysis         0.91               0.73     0.73      0.90   \n",
       "BernoulliNB                        0.86               0.73     0.73      0.86   \n",
       "DecisionTreeClassifier             0.89               0.72     0.72      0.88   \n",
       "ExtraTreeClassifier                0.87               0.71     0.71      0.87   \n",
       "XGBClassifier                      0.91               0.71     0.71      0.90   \n",
       "LGBMClassifier                     0.90               0.70     0.70      0.89   \n",
       "ExtraTreesClassifier               0.90               0.68     0.68      0.89   \n",
       "BaggingClassifier                  0.89               0.67     0.67      0.88   \n",
       "SVC                                0.90               0.67     0.67      0.88   \n",
       "RandomForestClassifier             0.90               0.65     0.65      0.88   \n",
       "LabelSpreading                     0.85               0.65     0.65      0.85   \n",
       "LabelPropagation                   0.85               0.65     0.65      0.85   \n",
       "QuadraticDiscriminantAnalysis      0.46               0.64     0.64      0.52   \n",
       "GaussianNB                         0.40               0.61     0.61      0.46   \n",
       "RidgeClassifier                    0.89               0.60     0.60      0.85   \n",
       "RidgeClassifierCV                  0.88               0.59     0.59      0.85   \n",
       "KNeighborsClassifier               0.88               0.58     0.58      0.84   \n",
       "DummyClassifier                    0.86               0.50     0.50      0.80   \n",
       "\n",
       "                               Time Taken  \n",
       "Model                                      \n",
       "Perceptron                           0.02  \n",
       "LinearSVC                            0.09  \n",
       "LogisticRegression                   0.05  \n",
       "PassiveAggressiveClassifier          0.03  \n",
       "AdaBoostClassifier                   0.23  \n",
       "SGDClassifier                        0.03  \n",
       "NearestCentroid                      0.11  \n",
       "CalibratedClassifierCV               0.17  \n",
       "LinearDiscriminantAnalysis           0.11  \n",
       "BernoulliNB                          0.02  \n",
       "DecisionTreeClassifier               0.03  \n",
       "ExtraTreeClassifier                  0.02  \n",
       "XGBClassifier                        0.15  \n",
       "LGBMClassifier                       0.15  \n",
       "ExtraTreesClassifier                 0.29  \n",
       "BaggingClassifier                    0.13  \n",
       "SVC                                  0.07  \n",
       "RandomForestClassifier               0.37  \n",
       "LabelSpreading                       0.23  \n",
       "LabelPropagation                     0.17  \n",
       "QuadraticDiscriminantAnalysis        0.03  \n",
       "GaussianNB                           0.02  \n",
       "RidgeClassifier                      0.03  \n",
       "RidgeClassifierCV                    0.03  \n",
       "KNeighborsClassifier                 0.12  \n",
       "DummyClassifier                      0.02  "
      ]
     },
     "execution_count": 13,
     "metadata": {},
     "output_type": "execute_result"
    }
   ],
   "source": [
    "# split the x and y dataframes then call the LazyClassifier and display the results\n",
    "x_train_l, x_test_l, y_train_l, y_test_l = train_test_split(x,y, test_size =0.2, random_state=42)\n",
    "\n",
    "clf = LazyClassifier(verbose=0, ignore_warnings=True, custom_metric=None)\n",
    "\n",
    "models, predictions = clf.fit(x_train_l,x_test_l,y_train_l,y_test_l)\n",
    "\n",
    "models"
   ]
  },
  {
   "cell_type": "code",
   "execution_count": 14,
   "metadata": {},
   "outputs": [
    {
     "data": {
      "text/html": [
       "<div>\n",
       "<style scoped>\n",
       "    .dataframe tbody tr th:only-of-type {\n",
       "        vertical-align: middle;\n",
       "    }\n",
       "\n",
       "    .dataframe tbody tr th {\n",
       "        vertical-align: top;\n",
       "    }\n",
       "\n",
       "    .dataframe thead th {\n",
       "        text-align: right;\n",
       "    }\n",
       "</style>\n",
       "<table border=\"1\" class=\"dataframe\">\n",
       "  <thead>\n",
       "    <tr style=\"text-align: right;\">\n",
       "      <th></th>\n",
       "      <th>BusinessTravel</th>\n",
       "      <th>Department</th>\n",
       "      <th>EducationField</th>\n",
       "      <th>Gender</th>\n",
       "      <th>JobRole</th>\n",
       "      <th>MaritalStatus</th>\n",
       "      <th>Over18</th>\n",
       "      <th>OverTime</th>\n",
       "    </tr>\n",
       "  </thead>\n",
       "  <tbody>\n",
       "    <tr>\n",
       "      <th>0</th>\n",
       "      <td>Travel_Rarely</td>\n",
       "      <td>Cardiology</td>\n",
       "      <td>Life Sciences</td>\n",
       "      <td>Female</td>\n",
       "      <td>Nurse</td>\n",
       "      <td>Single</td>\n",
       "      <td>Y</td>\n",
       "      <td>Yes</td>\n",
       "    </tr>\n",
       "    <tr>\n",
       "      <th>1</th>\n",
       "      <td>Travel_Frequently</td>\n",
       "      <td>Maternity</td>\n",
       "      <td>Life Sciences</td>\n",
       "      <td>Male</td>\n",
       "      <td>Other</td>\n",
       "      <td>Married</td>\n",
       "      <td>Y</td>\n",
       "      <td>No</td>\n",
       "    </tr>\n",
       "  </tbody>\n",
       "</table>\n",
       "</div>"
      ],
      "text/plain": [
       "      BusinessTravel  Department EducationField  Gender JobRole MaritalStatus  \\\n",
       "0      Travel_Rarely  Cardiology  Life Sciences  Female   Nurse        Single   \n",
       "1  Travel_Frequently   Maternity  Life Sciences    Male   Other       Married   \n",
       "\n",
       "  Over18 OverTime  \n",
       "0      Y      Yes  \n",
       "1      Y       No  "
      ]
     },
     "execution_count": 14,
     "metadata": {},
     "output_type": "execute_result"
    }
   ],
   "source": [
    "# look at the datatypes that are not quantitative\n",
    "data.select_dtypes(include=['object']).head(2)"
   ]
  },
  {
   "cell_type": "code",
   "execution_count": 15,
   "metadata": {},
   "outputs": [
    {
     "name": "stdout",
     "output_type": "stream",
     "text": [
      "Department:  ['Cardiology' 'Maternity' 'Neurology']\n",
      "Business Travel:  ['Travel_Rarely' 'Travel_Frequently' 'Non-Travel']\n",
      "EducationField:  ['Life Sciences' 'Other' 'Medical' 'Marketing' 'Technical Degree'\n",
      " 'Human Resources']\n",
      "Gender:  ['Female' 'Male']\n",
      "JobRole:  ['Nurse' 'Other' 'Therapist' 'Administrative' 'Admin']\n",
      "MaritalStatus\t:  ['Single' 'Married' 'Divorced']\n",
      "OverTime:  ['Yes' 'No']\n"
     ]
    }
   ],
   "source": [
    "# Pint the unique values of each 'object' feature\n",
    "print(\"Department: \", data.Department.unique())\n",
    "print(\"Business Travel: \",data.BusinessTravel.unique())\n",
    "print(\"EducationField: \",data.EducationField.unique())\n",
    "print(\"Gender: \",data.Gender.unique())\n",
    "print(\"JobRole: \",data.JobRole.unique())\n",
    "print(\"MaritalStatus\t: \",data.MaritalStatus.unique())\n",
    "#print(\"Over18: \",data.Over18.unique())\n",
    "print(\"OverTime: \", data.OverTime.unique())\n"
   ]
  },
  {
   "attachments": {},
   "cell_type": "markdown",
   "metadata": {},
   "source": [
    "### Analysis\n",
    "- I am going to encode these variables using 'get_dummies' for modeling purposes, so that all pertinent variables are quantitative"
   ]
  },
  {
   "cell_type": "code",
   "execution_count": 16,
   "metadata": {},
   "outputs": [
    {
     "data": {
      "text/html": [
       "<div>\n",
       "<style scoped>\n",
       "    .dataframe tbody tr th:only-of-type {\n",
       "        vertical-align: middle;\n",
       "    }\n",
       "\n",
       "    .dataframe tbody tr th {\n",
       "        vertical-align: top;\n",
       "    }\n",
       "\n",
       "    .dataframe thead th {\n",
       "        text-align: right;\n",
       "    }\n",
       "</style>\n",
       "<table border=\"1\" class=\"dataframe\">\n",
       "  <thead>\n",
       "    <tr style=\"text-align: right;\">\n",
       "      <th></th>\n",
       "      <th>Department_Cardiology</th>\n",
       "      <th>Department_Maternity</th>\n",
       "      <th>Department_Neurology</th>\n",
       "    </tr>\n",
       "  </thead>\n",
       "  <tbody>\n",
       "    <tr>\n",
       "      <th>0</th>\n",
       "      <td>1</td>\n",
       "      <td>0</td>\n",
       "      <td>0</td>\n",
       "    </tr>\n",
       "    <tr>\n",
       "      <th>1</th>\n",
       "      <td>0</td>\n",
       "      <td>1</td>\n",
       "      <td>0</td>\n",
       "    </tr>\n",
       "    <tr>\n",
       "      <th>2</th>\n",
       "      <td>0</td>\n",
       "      <td>1</td>\n",
       "      <td>0</td>\n",
       "    </tr>\n",
       "    <tr>\n",
       "      <th>3</th>\n",
       "      <td>0</td>\n",
       "      <td>1</td>\n",
       "      <td>0</td>\n",
       "    </tr>\n",
       "    <tr>\n",
       "      <th>4</th>\n",
       "      <td>0</td>\n",
       "      <td>1</td>\n",
       "      <td>0</td>\n",
       "    </tr>\n",
       "    <tr>\n",
       "      <th>...</th>\n",
       "      <td>...</td>\n",
       "      <td>...</td>\n",
       "      <td>...</td>\n",
       "    </tr>\n",
       "    <tr>\n",
       "      <th>1671</th>\n",
       "      <td>0</td>\n",
       "      <td>0</td>\n",
       "      <td>1</td>\n",
       "    </tr>\n",
       "    <tr>\n",
       "      <th>1672</th>\n",
       "      <td>1</td>\n",
       "      <td>0</td>\n",
       "      <td>0</td>\n",
       "    </tr>\n",
       "    <tr>\n",
       "      <th>1673</th>\n",
       "      <td>0</td>\n",
       "      <td>1</td>\n",
       "      <td>0</td>\n",
       "    </tr>\n",
       "    <tr>\n",
       "      <th>1674</th>\n",
       "      <td>0</td>\n",
       "      <td>0</td>\n",
       "      <td>1</td>\n",
       "    </tr>\n",
       "    <tr>\n",
       "      <th>1675</th>\n",
       "      <td>1</td>\n",
       "      <td>0</td>\n",
       "      <td>0</td>\n",
       "    </tr>\n",
       "  </tbody>\n",
       "</table>\n",
       "<p>1676 rows × 3 columns</p>\n",
       "</div>"
      ],
      "text/plain": [
       "      Department_Cardiology  Department_Maternity  Department_Neurology\n",
       "0                         1                     0                     0\n",
       "1                         0                     1                     0\n",
       "2                         0                     1                     0\n",
       "3                         0                     1                     0\n",
       "4                         0                     1                     0\n",
       "...                     ...                   ...                   ...\n",
       "1671                      0                     0                     1\n",
       "1672                      1                     0                     0\n",
       "1673                      0                     1                     0\n",
       "1674                      0                     0                     1\n",
       "1675                      1                     0                     0\n",
       "\n",
       "[1676 rows x 3 columns]"
      ]
     },
     "execution_count": 16,
     "metadata": {},
     "output_type": "execute_result"
    }
   ],
   "source": [
    "# example of the get_dummies call, including prefix for understanding of new variables\n",
    "pd.get_dummies(x['Department'], prefix='Department')"
   ]
  },
  {
   "cell_type": "code",
   "execution_count": 17,
   "metadata": {},
   "outputs": [],
   "source": [
    "### function for converting the 'object' type features to quantitative features\n",
    "def convert_numeric(data):\n",
    "\n",
    "    # Get dummy variables for 'object' columns\n",
    "    data_ohe = data\n",
    "    categorical_columns = data.select_dtypes(include=['object']).columns\n",
    "    for col in categorical_columns:\n",
    "        col_ohe = pd.get_dummies(data[col], prefix=col)\n",
    "        data_ohe = pd.concat((data_ohe, col_ohe), axis=1).drop(col, axis=1)\n",
    "\n",
    "    return data_ohe"
   ]
  },
  {
   "cell_type": "code",
   "execution_count": 18,
   "metadata": {},
   "outputs": [
    {
     "data": {
      "text/html": [
       "<div>\n",
       "<style scoped>\n",
       "    .dataframe tbody tr th:only-of-type {\n",
       "        vertical-align: middle;\n",
       "    }\n",
       "\n",
       "    .dataframe tbody tr th {\n",
       "        vertical-align: top;\n",
       "    }\n",
       "\n",
       "    .dataframe thead th {\n",
       "        text-align: right;\n",
       "    }\n",
       "</style>\n",
       "<table border=\"1\" class=\"dataframe\">\n",
       "  <thead>\n",
       "    <tr style=\"text-align: right;\">\n",
       "      <th></th>\n",
       "      <th>Age</th>\n",
       "      <th>DailyRate</th>\n",
       "      <th>DistanceFromHome</th>\n",
       "      <th>Education</th>\n",
       "      <th>EnvironmentSatisfaction</th>\n",
       "      <th>HourlyRate</th>\n",
       "      <th>JobInvolvement</th>\n",
       "      <th>JobLevel</th>\n",
       "      <th>JobSatisfaction</th>\n",
       "      <th>MonthlyIncome</th>\n",
       "      <th>...</th>\n",
       "      <th>JobRole_Admin</th>\n",
       "      <th>JobRole_Administrative</th>\n",
       "      <th>JobRole_Nurse</th>\n",
       "      <th>JobRole_Other</th>\n",
       "      <th>JobRole_Therapist</th>\n",
       "      <th>MaritalStatus_Divorced</th>\n",
       "      <th>MaritalStatus_Married</th>\n",
       "      <th>MaritalStatus_Single</th>\n",
       "      <th>OverTime_No</th>\n",
       "      <th>OverTime_Yes</th>\n",
       "    </tr>\n",
       "  </thead>\n",
       "  <tbody>\n",
       "    <tr>\n",
       "      <th>0</th>\n",
       "      <td>41</td>\n",
       "      <td>1102</td>\n",
       "      <td>1</td>\n",
       "      <td>2</td>\n",
       "      <td>2</td>\n",
       "      <td>94</td>\n",
       "      <td>3</td>\n",
       "      <td>2</td>\n",
       "      <td>4</td>\n",
       "      <td>5993</td>\n",
       "      <td>...</td>\n",
       "      <td>0</td>\n",
       "      <td>0</td>\n",
       "      <td>1</td>\n",
       "      <td>0</td>\n",
       "      <td>0</td>\n",
       "      <td>0</td>\n",
       "      <td>0</td>\n",
       "      <td>1</td>\n",
       "      <td>0</td>\n",
       "      <td>1</td>\n",
       "    </tr>\n",
       "    <tr>\n",
       "      <th>1</th>\n",
       "      <td>49</td>\n",
       "      <td>279</td>\n",
       "      <td>8</td>\n",
       "      <td>1</td>\n",
       "      <td>3</td>\n",
       "      <td>61</td>\n",
       "      <td>2</td>\n",
       "      <td>2</td>\n",
       "      <td>2</td>\n",
       "      <td>5130</td>\n",
       "      <td>...</td>\n",
       "      <td>0</td>\n",
       "      <td>0</td>\n",
       "      <td>0</td>\n",
       "      <td>1</td>\n",
       "      <td>0</td>\n",
       "      <td>0</td>\n",
       "      <td>1</td>\n",
       "      <td>0</td>\n",
       "      <td>1</td>\n",
       "      <td>0</td>\n",
       "    </tr>\n",
       "  </tbody>\n",
       "</table>\n",
       "<p>2 rows × 47 columns</p>\n",
       "</div>"
      ],
      "text/plain": [
       "   Age  DailyRate  DistanceFromHome  Education  EnvironmentSatisfaction  \\\n",
       "0   41       1102                 1          2                        2   \n",
       "1   49        279                 8          1                        3   \n",
       "\n",
       "   HourlyRate  JobInvolvement  JobLevel  JobSatisfaction  MonthlyIncome  ...  \\\n",
       "0          94               3         2                4           5993  ...   \n",
       "1          61               2         2                2           5130  ...   \n",
       "\n",
       "   JobRole_Admin  JobRole_Administrative  JobRole_Nurse  JobRole_Other  \\\n",
       "0              0                       0              1              0   \n",
       "1              0                       0              0              1   \n",
       "\n",
       "   JobRole_Therapist  MaritalStatus_Divorced  MaritalStatus_Married  \\\n",
       "0                  0                       0                      0   \n",
       "1                  0                       0                      1   \n",
       "\n",
       "   MaritalStatus_Single  OverTime_No  OverTime_Yes  \n",
       "0                     1            0             1  \n",
       "1                     0            1             0  \n",
       "\n",
       "[2 rows x 47 columns]"
      ]
     },
     "execution_count": 18,
     "metadata": {},
     "output_type": "execute_result"
    }
   ],
   "source": [
    "# convert the data and show the first two rows of the new dataframe\n",
    "x = convert_numeric(x)\n",
    "\n",
    "x.head(2)"
   ]
  },
  {
   "cell_type": "code",
   "execution_count": 19,
   "metadata": {},
   "outputs": [
    {
     "data": {
      "text/plain": [
       "Index(['Age', 'DailyRate', 'DistanceFromHome', 'Education',\n",
       "       'EnvironmentSatisfaction', 'HourlyRate', 'JobInvolvement', 'JobLevel',\n",
       "       'JobSatisfaction', 'MonthlyIncome', 'MonthlyRate', 'NumCompaniesWorked',\n",
       "       'PercentSalaryHike', 'PerformanceRating', 'RelationshipSatisfaction',\n",
       "       'Shift', 'TotalWorkingYears', 'TrainingTimesLastYear',\n",
       "       'WorkLifeBalance', 'YearsAtCompany', 'YearsInCurrentRole',\n",
       "       'YearsSinceLastPromotion', 'YearsWithCurrManager',\n",
       "       'BusinessTravel_Non-Travel', 'BusinessTravel_Travel_Frequently',\n",
       "       'BusinessTravel_Travel_Rarely', 'Department_Cardiology',\n",
       "       'Department_Maternity', 'Department_Neurology',\n",
       "       'EducationField_Human Resources', 'EducationField_Life Sciences',\n",
       "       'EducationField_Marketing', 'EducationField_Medical',\n",
       "       'EducationField_Other', 'EducationField_Technical Degree',\n",
       "       'Gender_Female', 'Gender_Male', 'JobRole_Admin',\n",
       "       'JobRole_Administrative', 'JobRole_Nurse', 'JobRole_Other',\n",
       "       'JobRole_Therapist', 'MaritalStatus_Divorced', 'MaritalStatus_Married',\n",
       "       'MaritalStatus_Single', 'OverTime_No', 'OverTime_Yes'],\n",
       "      dtype='object')"
      ]
     },
     "execution_count": 19,
     "metadata": {},
     "output_type": "execute_result"
    }
   ],
   "source": [
    "# look at the names of the new columns\n",
    "x.columns"
   ]
  },
  {
   "cell_type": "markdown",
   "metadata": {},
   "source": [
    "## First Method : Logistic Regression"
   ]
  },
  {
   "attachments": {},
   "cell_type": "markdown",
   "metadata": {},
   "source": [
    "### Base model with unbalanced data (before using SMOTE)"
   ]
  },
  {
   "cell_type": "code",
   "execution_count": 20,
   "metadata": {},
   "outputs": [],
   "source": [
    "# create the logistic regression  model\n",
    "from sklearn.linear_model import LogisticRegression\n",
    "\n",
    "# create the base instance of the model for exploration, setting the max_iterations high so the model can reach convergence\n",
    "log_r = LogisticRegression(max_iter=100000)\n"
   ]
  },
  {
   "cell_type": "code",
   "execution_count": 59,
   "metadata": {},
   "outputs": [
    {
     "data": {
      "text/html": [
       "<style>#sk-container-id-4 {color: black;background-color: white;}#sk-container-id-4 pre{padding: 0;}#sk-container-id-4 div.sk-toggleable {background-color: white;}#sk-container-id-4 label.sk-toggleable__label {cursor: pointer;display: block;width: 100%;margin-bottom: 0;padding: 0.3em;box-sizing: border-box;text-align: center;}#sk-container-id-4 label.sk-toggleable__label-arrow:before {content: \"▸\";float: left;margin-right: 0.25em;color: #696969;}#sk-container-id-4 label.sk-toggleable__label-arrow:hover:before {color: black;}#sk-container-id-4 div.sk-estimator:hover label.sk-toggleable__label-arrow:before {color: black;}#sk-container-id-4 div.sk-toggleable__content {max-height: 0;max-width: 0;overflow: hidden;text-align: left;background-color: #f0f8ff;}#sk-container-id-4 div.sk-toggleable__content pre {margin: 0.2em;color: black;border-radius: 0.25em;background-color: #f0f8ff;}#sk-container-id-4 input.sk-toggleable__control:checked~div.sk-toggleable__content {max-height: 200px;max-width: 100%;overflow: auto;}#sk-container-id-4 input.sk-toggleable__control:checked~label.sk-toggleable__label-arrow:before {content: \"▾\";}#sk-container-id-4 div.sk-estimator input.sk-toggleable__control:checked~label.sk-toggleable__label {background-color: #d4ebff;}#sk-container-id-4 div.sk-label input.sk-toggleable__control:checked~label.sk-toggleable__label {background-color: #d4ebff;}#sk-container-id-4 input.sk-hidden--visually {border: 0;clip: rect(1px 1px 1px 1px);clip: rect(1px, 1px, 1px, 1px);height: 1px;margin: -1px;overflow: hidden;padding: 0;position: absolute;width: 1px;}#sk-container-id-4 div.sk-estimator {font-family: monospace;background-color: #f0f8ff;border: 1px dotted black;border-radius: 0.25em;box-sizing: border-box;margin-bottom: 0.5em;}#sk-container-id-4 div.sk-estimator:hover {background-color: #d4ebff;}#sk-container-id-4 div.sk-parallel-item::after {content: \"\";width: 100%;border-bottom: 1px solid gray;flex-grow: 1;}#sk-container-id-4 div.sk-label:hover label.sk-toggleable__label {background-color: #d4ebff;}#sk-container-id-4 div.sk-serial::before {content: \"\";position: absolute;border-left: 1px solid gray;box-sizing: border-box;top: 0;bottom: 0;left: 50%;z-index: 0;}#sk-container-id-4 div.sk-serial {display: flex;flex-direction: column;align-items: center;background-color: white;padding-right: 0.2em;padding-left: 0.2em;position: relative;}#sk-container-id-4 div.sk-item {position: relative;z-index: 1;}#sk-container-id-4 div.sk-parallel {display: flex;align-items: stretch;justify-content: center;background-color: white;position: relative;}#sk-container-id-4 div.sk-item::before, #sk-container-id-4 div.sk-parallel-item::before {content: \"\";position: absolute;border-left: 1px solid gray;box-sizing: border-box;top: 0;bottom: 0;left: 50%;z-index: -1;}#sk-container-id-4 div.sk-parallel-item {display: flex;flex-direction: column;z-index: 1;position: relative;background-color: white;}#sk-container-id-4 div.sk-parallel-item:first-child::after {align-self: flex-end;width: 50%;}#sk-container-id-4 div.sk-parallel-item:last-child::after {align-self: flex-start;width: 50%;}#sk-container-id-4 div.sk-parallel-item:only-child::after {width: 0;}#sk-container-id-4 div.sk-dashed-wrapped {border: 1px dashed gray;margin: 0 0.4em 0.5em 0.4em;box-sizing: border-box;padding-bottom: 0.4em;background-color: white;}#sk-container-id-4 div.sk-label label {font-family: monospace;font-weight: bold;display: inline-block;line-height: 1.2em;}#sk-container-id-4 div.sk-label-container {text-align: center;}#sk-container-id-4 div.sk-container {/* jupyter's `normalize.less` sets `[hidden] { display: none; }` but bootstrap.min.css set `[hidden] { display: none !important; }` so we also need the `!important` here to be able to override the default hidden behavior on the sphinx rendered scikit-learn.org. See: https://github.com/scikit-learn/scikit-learn/issues/21755 */display: inline-block !important;position: relative;}#sk-container-id-4 div.sk-text-repr-fallback {display: none;}</style><div id=\"sk-container-id-4\" class=\"sk-top-container\"><div class=\"sk-text-repr-fallback\"><pre>LogisticRegression(max_iter=100000)</pre><b>In a Jupyter environment, please rerun this cell to show the HTML representation or trust the notebook. <br />On GitHub, the HTML representation is unable to render, please try loading this page with nbviewer.org.</b></div><div class=\"sk-container\" hidden><div class=\"sk-item\"><div class=\"sk-estimator sk-toggleable\"><input class=\"sk-toggleable__control sk-hidden--visually\" id=\"sk-estimator-id-4\" type=\"checkbox\" checked><label for=\"sk-estimator-id-4\" class=\"sk-toggleable__label sk-toggleable__label-arrow\">LogisticRegression</label><div class=\"sk-toggleable__content\"><pre>LogisticRegression(max_iter=100000)</pre></div></div></div></div></div>"
      ],
      "text/plain": [
       "LogisticRegression(max_iter=100000)"
      ]
     },
     "execution_count": 59,
     "metadata": {},
     "output_type": "execute_result"
    }
   ],
   "source": [
    "# split the data after numeric conversion\n",
    "x_train, x_test, y_train, y_test = train_test_split(x,y, test_size =0.2, random_state=42)\n",
    "\n",
    "# fit the data on the training data\n",
    "log_r.fit(x_train, y_train)"
   ]
  },
  {
   "cell_type": "code",
   "execution_count": 22,
   "metadata": {},
   "outputs": [
    {
     "name": "stdout",
     "output_type": "stream",
     "text": [
      "0.9077380952380952\n"
     ]
    }
   ],
   "source": [
    "# generate the predictions and show the overall 'accuracy' of the model \n",
    "predictions = log_r.predict(x_test)\n",
    "score = log_r.score(x_test, y_test)\n",
    "print(score)"
   ]
  },
  {
   "attachments": {},
   "cell_type": "markdown",
   "metadata": {},
   "source": [
    "### For better understanding of model performance, let's use a confusion matrix to show more in depth metrics"
   ]
  },
  {
   "cell_type": "code",
   "execution_count": 23,
   "metadata": {},
   "outputs": [],
   "source": [
    "# import the necessary modules for creating the confusion matric\n",
    "import matplotlib.pyplot as plt\n",
    "import seaborn as sns\n",
    "from sklearn import metrics\n",
    "from sklearn.metrics import classification_report\n",
    "\n",
    "cm = metrics.confusion_matrix(y_test, predictions)"
   ]
  },
  {
   "cell_type": "code",
   "execution_count": 24,
   "metadata": {},
   "outputs": [
    {
     "name": "stdout",
     "output_type": "stream",
     "text": [
      "              precision    recall  f1-score   support\n",
      "\n",
      "           0       0.93      0.97      0.95       289\n",
      "           1       0.74      0.53      0.62        47\n",
      "\n",
      "    accuracy                           0.91       336\n",
      "   macro avg       0.83      0.75      0.78       336\n",
      "weighted avg       0.90      0.91      0.90       336\n",
      "\n"
     ]
    },
    {
     "data": {
      "image/png": "[encoded data removed]",
      "text/plain": [
       "<Figure size 648x648 with 2 Axes>"
      ]
     },
     "metadata": {
      "needs_background": "light"
     },
     "output_type": "display_data"
    }
   ],
   "source": [
    "# plot the confusion matrix and print the report\n",
    "plt.figure(figsize=(9,9))\n",
    "sns.heatmap(cm, annot=True, fmt=\"d\", linewidths=.5, square = True, cmap = 'Blues_r')\n",
    "plt.ylabel('Actual label')\n",
    "plt.xlabel('Predicted label')\n",
    "all_sample_title = 'Accuracy Score: {:.2f}%'.format(score*100, {\"3f\"})\n",
    "plt.title(all_sample_title, size = 15)\n",
    "\n",
    "print(classification_report(y_test,predictions))\n",
    "\n",
    "plt.show()"
   ]
  },
  {
   "attachments": {},
   "cell_type": "markdown",
   "metadata": {},
   "source": [
    "### Let's try running the base model after balancing the data set to see if we have improvement"
   ]
  },
  {
   "cell_type": "code",
   "execution_count": 60,
   "metadata": {},
   "outputs": [],
   "source": [
    "# # pip install imbalanced-learn\n",
    "# import imblearn\n",
    "\n",
    "from imblearn.over_sampling import SMOTE\n",
    "\n",
    "# transform the dataset\n",
    "oversample = SMOTE()\n",
    "x_bal_train, y_bal_train = oversample.fit_resample(x_train, y_train)"
   ]
  },
  {
   "cell_type": "code",
   "execution_count": 26,
   "metadata": {},
   "outputs": [
    {
     "data": {
      "text/plain": [
       "0    1188\n",
       "1    1188\n",
       "Name: Attrition, dtype: int64"
      ]
     },
     "execution_count": 26,
     "metadata": {},
     "output_type": "execute_result"
    }
   ],
   "source": [
    "# look at the new re_sampled data, showcasing balance in the training data\n",
    "y_bal_train.value_counts()"
   ]
  },
  {
   "cell_type": "code",
   "execution_count": 27,
   "metadata": {},
   "outputs": [
    {
     "data": {
      "text/html": [
       "<style>#sk-container-id-2 {color: black;background-color: white;}#sk-container-id-2 pre{padding: 0;}#sk-container-id-2 div.sk-toggleable {background-color: white;}#sk-container-id-2 label.sk-toggleable__label {cursor: pointer;display: block;width: 100%;margin-bottom: 0;padding: 0.3em;box-sizing: border-box;text-align: center;}#sk-container-id-2 label.sk-toggleable__label-arrow:before {content: \"▸\";float: left;margin-right: 0.25em;color: #696969;}#sk-container-id-2 label.sk-toggleable__label-arrow:hover:before {color: black;}#sk-container-id-2 div.sk-estimator:hover label.sk-toggleable__label-arrow:before {color: black;}#sk-container-id-2 div.sk-toggleable__content {max-height: 0;max-width: 0;overflow: hidden;text-align: left;background-color: #f0f8ff;}#sk-container-id-2 div.sk-toggleable__content pre {margin: 0.2em;color: black;border-radius: 0.25em;background-color: #f0f8ff;}#sk-container-id-2 input.sk-toggleable__control:checked~div.sk-toggleable__content {max-height: 200px;max-width: 100%;overflow: auto;}#sk-container-id-2 input.sk-toggleable__control:checked~label.sk-toggleable__label-arrow:before {content: \"▾\";}#sk-container-id-2 div.sk-estimator input.sk-toggleable__control:checked~label.sk-toggleable__label {background-color: #d4ebff;}#sk-container-id-2 div.sk-label input.sk-toggleable__control:checked~label.sk-toggleable__label {background-color: #d4ebff;}#sk-container-id-2 input.sk-hidden--visually {border: 0;clip: rect(1px 1px 1px 1px);clip: rect(1px, 1px, 1px, 1px);height: 1px;margin: -1px;overflow: hidden;padding: 0;position: absolute;width: 1px;}#sk-container-id-2 div.sk-estimator {font-family: monospace;background-color: #f0f8ff;border: 1px dotted black;border-radius: 0.25em;box-sizing: border-box;margin-bottom: 0.5em;}#sk-container-id-2 div.sk-estimator:hover {background-color: #d4ebff;}#sk-container-id-2 div.sk-parallel-item::after {content: \"\";width: 100%;border-bottom: 1px solid gray;flex-grow: 1;}#sk-container-id-2 div.sk-label:hover label.sk-toggleable__label {background-color: #d4ebff;}#sk-container-id-2 div.sk-serial::before {content: \"\";position: absolute;border-left: 1px solid gray;box-sizing: border-box;top: 0;bottom: 0;left: 50%;z-index: 0;}#sk-container-id-2 div.sk-serial {display: flex;flex-direction: column;align-items: center;background-color: white;padding-right: 0.2em;padding-left: 0.2em;position: relative;}#sk-container-id-2 div.sk-item {position: relative;z-index: 1;}#sk-container-id-2 div.sk-parallel {display: flex;align-items: stretch;justify-content: center;background-color: white;position: relative;}#sk-container-id-2 div.sk-item::before, #sk-container-id-2 div.sk-parallel-item::before {content: \"\";position: absolute;border-left: 1px solid gray;box-sizing: border-box;top: 0;bottom: 0;left: 50%;z-index: -1;}#sk-container-id-2 div.sk-parallel-item {display: flex;flex-direction: column;z-index: 1;position: relative;background-color: white;}#sk-container-id-2 div.sk-parallel-item:first-child::after {align-self: flex-end;width: 50%;}#sk-container-id-2 div.sk-parallel-item:last-child::after {align-self: flex-start;width: 50%;}#sk-container-id-2 div.sk-parallel-item:only-child::after {width: 0;}#sk-container-id-2 div.sk-dashed-wrapped {border: 1px dashed gray;margin: 0 0.4em 0.5em 0.4em;box-sizing: border-box;padding-bottom: 0.4em;background-color: white;}#sk-container-id-2 div.sk-label label {font-family: monospace;font-weight: bold;display: inline-block;line-height: 1.2em;}#sk-container-id-2 div.sk-label-container {text-align: center;}#sk-container-id-2 div.sk-container {/* jupyter's `normalize.less` sets `[hidden] { display: none; }` but bootstrap.min.css set `[hidden] { display: none !important; }` so we also need the `!important` here to be able to override the default hidden behavior on the sphinx rendered scikit-learn.org. See: https://github.com/scikit-learn/scikit-learn/issues/21755 */display: inline-block !important;position: relative;}#sk-container-id-2 div.sk-text-repr-fallback {display: none;}</style><div id=\"sk-container-id-2\" class=\"sk-top-container\"><div class=\"sk-text-repr-fallback\"><pre>LogisticRegression(max_iter=100000)</pre><b>In a Jupyter environment, please rerun this cell to show the HTML representation or trust the notebook. <br />On GitHub, the HTML representation is unable to render, please try loading this page with nbviewer.org.</b></div><div class=\"sk-container\" hidden><div class=\"sk-item\"><div class=\"sk-estimator sk-toggleable\"><input class=\"sk-toggleable__control sk-hidden--visually\" id=\"sk-estimator-id-2\" type=\"checkbox\" checked><label for=\"sk-estimator-id-2\" class=\"sk-toggleable__label sk-toggleable__label-arrow\">LogisticRegression</label><div class=\"sk-toggleable__content\"><pre>LogisticRegression(max_iter=100000)</pre></div></div></div></div></div>"
      ],
      "text/plain": [
       "LogisticRegression(max_iter=100000)"
      ]
     },
     "execution_count": 27,
     "metadata": {},
     "output_type": "execute_result"
    }
   ],
   "source": [
    "\n",
    "# fit the data on the balanced training data\n",
    "log_r.fit(x_bal_train, y_bal_train)"
   ]
  },
  {
   "cell_type": "code",
   "execution_count": 28,
   "metadata": {},
   "outputs": [
    {
     "name": "stdout",
     "output_type": "stream",
     "text": [
      "0.8988095238095238\n"
     ]
    }
   ],
   "source": [
    "# generate predictions for the model trained on 'balanced' training data and show accuracy\n",
    "predictions = log_r.predict(x_test)\n",
    "logr_score = log_r.score(x_test, y_test)\n",
    "print(logr_score)"
   ]
  },
  {
   "cell_type": "code",
   "execution_count": 29,
   "metadata": {},
   "outputs": [
    {
     "name": "stdout",
     "output_type": "stream",
     "text": [
      "              precision    recall  f1-score   support\n",
      "\n",
      "           0       0.92      0.96      0.94       289\n",
      "           1       0.69      0.51      0.59        47\n",
      "\n",
      "    accuracy                           0.90       336\n",
      "   macro avg       0.80      0.74      0.76       336\n",
      "weighted avg       0.89      0.90      0.89       336\n",
      "\n"
     ]
    },
    {
     "data": {
      "image/png": "[encoded data removed]",
      "text/plain": [
       "<Figure size 648x648 with 2 Axes>"
      ]
     },
     "metadata": {
      "needs_background": "light"
     },
     "output_type": "display_data"
    }
   ],
   "source": [
    "# plot the confusion matrix of this 'balanced' log_r model and print the report for analysis\n",
    "cm = metrics.confusion_matrix(y_test, predictions)\n",
    "plt.figure(figsize=(9,9))\n",
    "sns.heatmap(cm, annot=True, fmt=\"d\", linewidths=.5, square = True, cmap = 'Blues_r')\n",
    "plt.ylabel('Actual label')\n",
    "plt.xlabel('Predicted label')\n",
    "all_sample_title = 'Accuracy Score: {:.2f}%'.format(logr_score*100, {\"3f\"})\n",
    "plt.title(all_sample_title, size = 15)\n",
    "\n",
    "print(classification_report(y_test,predictions))"
   ]
  },
  {
   "attachments": {},
   "cell_type": "markdown",
   "metadata": {},
   "source": [
    "#### Overall, the balancing of the data actually worsened our results by a little bit. For this reason, I will choose not to use SMOTE for the log_r model\n",
    "- Also, using SMOTE could cause explainability issues as it is a more complex technique. Therefore, keeping the data 'unbalanced' will allow for easier understanding of the model "
   ]
  },
  {
   "attachments": {},
   "cell_type": "markdown",
   "metadata": {},
   "source": [
    "## Second Model: XGBoost Classifier"
   ]
  },
  {
   "cell_type": "code",
   "execution_count": 30,
   "metadata": {},
   "outputs": [],
   "source": [
    "# Now let's create and test our XGBoost Classifier model\n",
    "import xgboost as xgb\n",
    "\n",
    "# create model instances for both 'unbalanced' and 'balanced' training data\n",
    "xgb_cl = xgb.XGBClassifier()\n",
    "xgb_bal_cl = xgb.XGBClassifier()"
   ]
  },
  {
   "cell_type": "code",
   "execution_count": 31,
   "metadata": {},
   "outputs": [
    {
     "data": {
      "text/html": [
       "<style>#sk-container-id-3 {color: black;background-color: white;}#sk-container-id-3 pre{padding: 0;}#sk-container-id-3 div.sk-toggleable {background-color: white;}#sk-container-id-3 label.sk-toggleable__label {cursor: pointer;display: block;width: 100%;margin-bottom: 0;padding: 0.3em;box-sizing: border-box;text-align: center;}#sk-container-id-3 label.sk-toggleable__label-arrow:before {content: \"▸\";float: left;margin-right: 0.25em;color: #696969;}#sk-container-id-3 label.sk-toggleable__label-arrow:hover:before {color: black;}#sk-container-id-3 div.sk-estimator:hover label.sk-toggleable__label-arrow:before {color: black;}#sk-container-id-3 div.sk-toggleable__content {max-height: 0;max-width: 0;overflow: hidden;text-align: left;background-color: #f0f8ff;}#sk-container-id-3 div.sk-toggleable__content pre {margin: 0.2em;color: black;border-radius: 0.25em;background-color: #f0f8ff;}#sk-container-id-3 input.sk-toggleable__control:checked~div.sk-toggleable__content {max-height: 200px;max-width: 100%;overflow: auto;}#sk-container-id-3 input.sk-toggleable__control:checked~label.sk-toggleable__label-arrow:before {content: \"▾\";}#sk-container-id-3 div.sk-estimator input.sk-toggleable__control:checked~label.sk-toggleable__label {background-color: #d4ebff;}#sk-container-id-3 div.sk-label input.sk-toggleable__control:checked~label.sk-toggleable__label {background-color: #d4ebff;}#sk-container-id-3 input.sk-hidden--visually {border: 0;clip: rect(1px 1px 1px 1px);clip: rect(1px, 1px, 1px, 1px);height: 1px;margin: -1px;overflow: hidden;padding: 0;position: absolute;width: 1px;}#sk-container-id-3 div.sk-estimator {font-family: monospace;background-color: #f0f8ff;border: 1px dotted black;border-radius: 0.25em;box-sizing: border-box;margin-bottom: 0.5em;}#sk-container-id-3 div.sk-estimator:hover {background-color: #d4ebff;}#sk-container-id-3 div.sk-parallel-item::after {content: \"\";width: 100%;border-bottom: 1px solid gray;flex-grow: 1;}#sk-container-id-3 div.sk-label:hover label.sk-toggleable__label {background-color: #d4ebff;}#sk-container-id-3 div.sk-serial::before {content: \"\";position: absolute;border-left: 1px solid gray;box-sizing: border-box;top: 0;bottom: 0;left: 50%;z-index: 0;}#sk-container-id-3 div.sk-serial {display: flex;flex-direction: column;align-items: center;background-color: white;padding-right: 0.2em;padding-left: 0.2em;position: relative;}#sk-container-id-3 div.sk-item {position: relative;z-index: 1;}#sk-container-id-3 div.sk-parallel {display: flex;align-items: stretch;justify-content: center;background-color: white;position: relative;}#sk-container-id-3 div.sk-item::before, #sk-container-id-3 div.sk-parallel-item::before {content: \"\";position: absolute;border-left: 1px solid gray;box-sizing: border-box;top: 0;bottom: 0;left: 50%;z-index: -1;}#sk-container-id-3 div.sk-parallel-item {display: flex;flex-direction: column;z-index: 1;position: relative;background-color: white;}#sk-container-id-3 div.sk-parallel-item:first-child::after {align-self: flex-end;width: 50%;}#sk-container-id-3 div.sk-parallel-item:last-child::after {align-self: flex-start;width: 50%;}#sk-container-id-3 div.sk-parallel-item:only-child::after {width: 0;}#sk-container-id-3 div.sk-dashed-wrapped {border: 1px dashed gray;margin: 0 0.4em 0.5em 0.4em;box-sizing: border-box;padding-bottom: 0.4em;background-color: white;}#sk-container-id-3 div.sk-label label {font-family: monospace;font-weight: bold;display: inline-block;line-height: 1.2em;}#sk-container-id-3 div.sk-label-container {text-align: center;}#sk-container-id-3 div.sk-container {/* jupyter's `normalize.less` sets `[hidden] { display: none; }` but bootstrap.min.css set `[hidden] { display: none !important; }` so we also need the `!important` here to be able to override the default hidden behavior on the sphinx rendered scikit-learn.org. See: https://github.com/scikit-learn/scikit-learn/issues/21755 */display: inline-block !important;position: relative;}#sk-container-id-3 div.sk-text-repr-fallback {display: none;}</style><div id=\"sk-container-id-3\" class=\"sk-top-container\"><div class=\"sk-text-repr-fallback\"><pre>XGBClassifier(base_score=None, booster=None, callbacks=None,\n",
       "              colsample_bylevel=None, colsample_bynode=None,\n",
       "              colsample_bytree=None, early_stopping_rounds=None,\n",
       "              enable_categorical=False, eval_metric=None, feature_types=None,\n",
       "              gamma=None, gpu_id=None, grow_policy=None, importance_type=None,\n",
       "              interaction_constraints=None, learning_rate=None, max_bin=None,\n",
       "              max_cat_threshold=None, max_cat_to_onehot=None,\n",
       "              max_delta_step=None, max_depth=None, max_leaves=None,\n",
       "              min_child_weight=None, missing=nan, monotone_constraints=None,\n",
       "              n_estimators=100, n_jobs=None, num_parallel_tree=None,\n",
       "              predictor=None, random_state=None, ...)</pre><b>In a Jupyter environment, please rerun this cell to show the HTML representation or trust the notebook. <br />On GitHub, the HTML representation is unable to render, please try loading this page with nbviewer.org.</b></div><div class=\"sk-container\" hidden><div class=\"sk-item\"><div class=\"sk-estimator sk-toggleable\"><input class=\"sk-toggleable__control sk-hidden--visually\" id=\"sk-estimator-id-3\" type=\"checkbox\" checked><label for=\"sk-estimator-id-3\" class=\"sk-toggleable__label sk-toggleable__label-arrow\">XGBClassifier</label><div class=\"sk-toggleable__content\"><pre>XGBClassifier(base_score=None, booster=None, callbacks=None,\n",
       "              colsample_bylevel=None, colsample_bynode=None,\n",
       "              colsample_bytree=None, early_stopping_rounds=None,\n",
       "              enable_categorical=False, eval_metric=None, feature_types=None,\n",
       "              gamma=None, gpu_id=None, grow_policy=None, importance_type=None,\n",
       "              interaction_constraints=None, learning_rate=None, max_bin=None,\n",
       "              max_cat_threshold=None, max_cat_to_onehot=None,\n",
       "              max_delta_step=None, max_depth=None, max_leaves=None,\n",
       "              min_child_weight=None, missing=nan, monotone_constraints=None,\n",
       "              n_estimators=100, n_jobs=None, num_parallel_tree=None,\n",
       "              predictor=None, random_state=None, ...)</pre></div></div></div></div></div>"
      ],
      "text/plain": [
       "XGBClassifier(base_score=None, booster=None, callbacks=None,\n",
       "              colsample_bylevel=None, colsample_bynode=None,\n",
       "              colsample_bytree=None, early_stopping_rounds=None,\n",
       "              enable_categorical=False, eval_metric=None, feature_types=None,\n",
       "              gamma=None, gpu_id=None, grow_policy=None, importance_type=None,\n",
       "              interaction_constraints=None, learning_rate=None, max_bin=None,\n",
       "              max_cat_threshold=None, max_cat_to_onehot=None,\n",
       "              max_delta_step=None, max_depth=None, max_leaves=None,\n",
       "              min_child_weight=None, missing=nan, monotone_constraints=None,\n",
       "              n_estimators=100, n_jobs=None, num_parallel_tree=None,\n",
       "              predictor=None, random_state=None, ...)"
      ]
     },
     "execution_count": 31,
     "metadata": {},
     "output_type": "execute_result"
    }
   ],
   "source": [
    "# split the data after numeric conversion\n",
    "x_train, x_test, y_train, y_test = train_test_split(x,y, test_size =0.2, random_state=42)\n",
    "\n",
    "# transform the dataset using SMOTE \n",
    "oversample = SMOTE()\n",
    "x_bal_train, y_bal_train = oversample.fit_resample(x_train, y_train)\n",
    "\n",
    "# Fit the unbalanced model\n",
    "xgb_cl.fit(x_train, y_train)\n",
    "\n",
    "# Fit the 'balanced' model\n",
    "xgb_bal_cl.fit(x_bal_train, y_bal_train)"
   ]
  },
  {
   "cell_type": "code",
   "execution_count": 32,
   "metadata": {},
   "outputs": [
    {
     "name": "stdout",
     "output_type": "stream",
     "text": [
      "0.9107142857142857\n"
     ]
    }
   ],
   "source": [
    "# Predict on the 'unbalanced' model and show the overall accuracy\n",
    "preds = xgb_cl.predict(x_test)\n",
    "\n",
    "xgb_score = xgb_cl.score(x_test, y_test)\n",
    "print(xgb_score)"
   ]
  },
  {
   "cell_type": "code",
   "execution_count": 33,
   "metadata": {},
   "outputs": [
    {
     "name": "stdout",
     "output_type": "stream",
     "text": [
      "              precision    recall  f1-score   support\n",
      "\n",
      "           0       0.91      0.99      0.95       289\n",
      "           1       0.87      0.43      0.57        47\n",
      "\n",
      "    accuracy                           0.91       336\n",
      "   macro avg       0.89      0.71      0.76       336\n",
      "weighted avg       0.91      0.91      0.90       336\n",
      "\n"
     ]
    },
    {
     "data": {
      "image/png": "[encoded data removed]",
      "text/plain": [
       "<Figure size 648x648 with 2 Axes>"
      ]
     },
     "metadata": {
      "needs_background": "light"
     },
     "output_type": "display_data"
    }
   ],
   "source": [
    "cm = metrics.confusion_matrix(y_test, preds)\n",
    "plt.figure(figsize=(9,9))\n",
    "sns.heatmap(cm, annot=True, fmt=\"d\", linewidths=.5, square = True, cmap = 'Blues_r')\n",
    "plt.ylabel('Actual label')\n",
    "plt.xlabel('Predicted label')\n",
    "all_sample_title = 'Accuracy Score: {:.2f}%'.format(xgb_score*100, {\"3f\"})\n",
    "plt.title(all_sample_title, size = 15)\n",
    "\n",
    "print(classification_report(y_test,preds))"
   ]
  },
  {
   "cell_type": "code",
   "execution_count": 34,
   "metadata": {},
   "outputs": [
    {
     "name": "stdout",
     "output_type": "stream",
     "text": [
      "0.9166666666666666\n"
     ]
    }
   ],
   "source": [
    "# Predict on the 'balanced' model and show the overall accuracy\n",
    "preds_bal = xgb_bal_cl.predict(x_test)\n",
    "\n",
    "xgb_bal_score = xgb_bal_cl.score(x_test, y_test)\n",
    "print(xgb_bal_score)"
   ]
  },
  {
   "cell_type": "code",
   "execution_count": 35,
   "metadata": {},
   "outputs": [
    {
     "name": "stdout",
     "output_type": "stream",
     "text": [
      "              precision    recall  f1-score   support\n",
      "\n",
      "           0       0.93      0.98      0.95       289\n",
      "           1       0.83      0.51      0.63        47\n",
      "\n",
      "    accuracy                           0.92       336\n",
      "   macro avg       0.88      0.75      0.79       336\n",
      "weighted avg       0.91      0.92      0.91       336\n",
      "\n"
     ]
    },
    {
     "data": {
      "image/png": "[encoded data removed]",
      "text/plain": [
       "<Figure size 648x648 with 2 Axes>"
      ]
     },
     "metadata": {
      "needs_background": "light"
     },
     "output_type": "display_data"
    }
   ],
   "source": [
    "cm = metrics.confusion_matrix(y_test, preds_bal)\n",
    "plt.figure(figsize=(9,9))\n",
    "sns.heatmap(cm, annot=True, fmt=\"d\", linewidths=.5, square = True, cmap = 'Blues_r')\n",
    "plt.ylabel('Actual label')\n",
    "plt.xlabel('Predicted label')\n",
    "all_sample_title = 'Accuracy Score: {:.2f}%'.format(xgb_bal_score*100, {\"3f\"})\n",
    "plt.title(all_sample_title, size = 15)\n",
    "\n",
    "print(classification_report(y_test,preds_bal))"
   ]
  },
  {
   "attachments": {},
   "cell_type": "markdown",
   "metadata": {},
   "source": [
    "#### For XGBOOST, I will use the 'balanced' model. Even though it's overall accuracy was slightly worse, It did have a lower false-negative number. This number is what I am trying to minimize (without having too much of a tradeoff in model performance), so the improvement in this category [Bottom left number where we predicted 'No' and it was actually 'Yes'] is worth the 1% loss in accuracy"
   ]
  },
  {
   "attachments": {},
   "cell_type": "markdown",
   "metadata": {},
   "source": [
    "## THIRD MODEL : Neural Network\n",
    "- I will not be using this model in the actual 'run.py'. This attempt is just for fun to see if a 'simple' neural network could outperform logisitic regression / xgboost classifier\n",
    "\n",
    "- Even though I kept this network very simple, it did take a lot longer to train than the other models. Adding in parameters / better architecture to try to improve performance would only add to the computation time to train the network, so I am not going to be pursuin this model type to solve the attrition problem"
   ]
  },
  {
   "cell_type": "code",
   "execution_count": 36,
   "metadata": {},
   "outputs": [],
   "source": [
    "#define custom loss for unbalanced data set using inverse weights\n",
    "\n",
    "class CrossEntropyLoss(tf.keras.losses.Loss):\n",
    "\n",
    "    def __init__(self):\n",
    "\n",
    "        super().__init__(name='CrossEntropyLoss')\n",
    "\n",
    " \n",
    "\n",
    "    def call(self, y_true, y_pred):\n",
    "\n",
    "        \"\"\"\n",
    "\n",
    "        Cross entropy loss adjusted for class imabalance and one-hot encoding sparsity\n",
    "\n",
    "        \"\"\"\n",
    "\n",
    "        y_true = tf.cast(y_true, dtype=tf.float64)\n",
    "\n",
    "        y_pred = tf.cast(y_pred, dtype=tf.float64)\n",
    "\n",
    " \n",
    "\n",
    "        epsilon = tf.constant(1e-7, dtype=tf.float64) #avoid nans\n",
    "\n",
    "        loss = (tf.math.log(y_pred+epsilon)*y_true + tf.math.log((1-y_pred)+epsilon) * (1-y_true))*-1.0\n",
    "\n",
    "        tf.debugging.assert_all_finite(loss, 'There are nan values')\n",
    "\n",
    "        return tf.reduce_sum(tf.reduce_mean(loss, axis = 0))\n",
    "\n",
    " \n",
    "\n",
    "class ClassImbalanceSparsityAdjustedCEL(tf.keras.losses.Loss):\n",
    "\n",
    "    def __init__(self, inverse_class_weights):\n",
    "\n",
    "        \"\"\"\n",
    "\n",
    "        Initialization of inverse class weights\n",
    "\n",
    "        \"\"\"\n",
    "\n",
    "        super().__init__(name='ClassImbalanceSparsityAdjustedCEL')\n",
    "\n",
    "        self.inverse_class_weights = inverse_class_weights\n",
    "\n",
    " \n",
    "\n",
    "    def call(self, y_true, y_pred):\n",
    "\n",
    "        \"\"\"\n",
    "\n",
    "        Cross entropy loss adjusted for class imabalance and one-hot encoding sparsity\n",
    "\n",
    "        \"\"\"\n",
    "\n",
    "        P = tf.reduce_sum(y_true)\n",
    "\n",
    "        N = -1 * tf.reduce_sum(y_true - 1)\n",
    "\n",
    " \n",
    "\n",
    "        beta_P = tf.cast((P + N) / P, dtype=tf.float64)\n",
    "\n",
    "        beta_N = tf.cast((P + N) / N, dtype=tf.float64)\n",
    "\n",
    " \n",
    "\n",
    "        y_true = tf.cast(y_true, dtype=tf.float64)\n",
    "\n",
    "        y_pred = tf.cast(y_pred, dtype=tf.float64)\n",
    "\n",
    " \n",
    "\n",
    "        epsilon = tf.constant(1e-7, dtype=tf.float64) #avoid nans\n",
    "\n",
    "        loss = (beta_P*tf.math.log(y_pred+epsilon)*y_true + beta_N*tf.math.log((1-y_pred)+epsilon) * (1-y_true))*-1.0\n",
    "\n",
    "        tf.debugging.assert_all_finite(loss, 'There are nan values')\n",
    "\n",
    "        return tf.reduce_sum(tf.reduce_mean(loss, axis = 0)*self.inverse_class_weights)\n",
    "\n",
    " \n",
    "\n"
   ]
  },
  {
   "cell_type": "code",
   "execution_count": 55,
   "metadata": {},
   "outputs": [],
   "source": [
    "# function to plot accuracy and loss\n",
    "\n",
    "import matplotlib.pyplot as plt\n",
    "%matplotlib inline\n",
    "\n",
    "def plot_acc_loss(history):\n",
    "    \n",
    "    plt.figure(1)  \n",
    "\n",
    "    # summarize history for accuracy  \n",
    "\n",
    "    plt.subplot(211)  \n",
    "    plt.plot(history.history[list(history.history.keys())[1]])  \n",
    "    plt.plot(history.history[list(history.history.keys())[3]])  \n",
    "    plt.title('False Negative Graph')  \n",
    "    plt.ylabel('# False Negatives')  \n",
    "    plt.xlabel('epoch')  \n",
    "    plt.legend(['train', 'val'], loc='upper left')  \n",
    "\n",
    "    # summarize history for loss  \n",
    "\n",
    "    plt.subplot(212)  \n",
    "    plt.plot(history.history[list(history.history.keys())[0]])  \n",
    "    plt.plot(history.history[list(history.history.keys())[2]])  \n",
    "    plt.title('model loss')  \n",
    "    plt.ylabel('loss')  \n",
    "    plt.xlabel('epoch')  \n",
    "    plt.legend(['train', 'val'], loc='upper left')\n",
    "\n",
    "    plt.tight_layout()\n",
    "    plt.show() \n",
    "    \n",
    "    return"
   ]
  },
  {
   "attachments": {},
   "cell_type": "markdown",
   "metadata": {},
   "source": [
    "## Begin with Unbalanced Data"
   ]
  },
  {
   "cell_type": "code",
   "execution_count": 61,
   "metadata": {},
   "outputs": [
    {
     "name": "stdout",
     "output_type": "stream",
     "text": [
      "****** With Normalization Layer *******\n",
      "Residual True\n",
      "Epoch 1/50\n",
      "42/42 - 2s - loss: 0.7391 - false_negatives_3: 185.0000 - val_loss: 0.3994 - val_false_negatives_3: 47.0000 - 2s/epoch - 48ms/step\n",
      "Epoch 2/50\n",
      "42/42 - 0s - loss: 0.3364 - false_negatives_3: 152.0000 - val_loss: 0.4043 - val_false_negatives_3: 47.0000 - 148ms/epoch - 4ms/step\n",
      "Epoch 3/50\n",
      "42/42 - 0s - loss: 0.3324 - false_negatives_3: 151.0000 - val_loss: 0.4068 - val_false_negatives_3: 47.0000 - 141ms/epoch - 3ms/step\n",
      "Epoch 4/50\n",
      "42/42 - 0s - loss: 0.3285 - false_negatives_3: 152.0000 - val_loss: 0.4056 - val_false_negatives_3: 47.0000 - 130ms/epoch - 3ms/step\n",
      "Epoch 5/50\n",
      "42/42 - 0s - loss: 0.3331 - false_negatives_3: 152.0000 - val_loss: 0.4008 - val_false_negatives_3: 47.0000 - 130ms/epoch - 3ms/step\n",
      "Epoch 6/50\n",
      "42/42 - 0s - loss: 0.3320 - false_negatives_3: 150.0000 - val_loss: 0.3865 - val_false_negatives_3: 47.0000 - 143ms/epoch - 3ms/step\n",
      "Epoch 7/50\n",
      "42/42 - 0s - loss: 0.3279 - false_negatives_3: 151.0000 - val_loss: 0.4094 - val_false_negatives_3: 47.0000 - 128ms/epoch - 3ms/step\n",
      "Epoch 8/50\n",
      "42/42 - 0s - loss: 0.3349 - false_negatives_3: 154.0000 - val_loss: 0.3916 - val_false_negatives_3: 47.0000 - 135ms/epoch - 3ms/step\n",
      "Epoch 9/50\n",
      "42/42 - 0s - loss: 0.3255 - false_negatives_3: 152.0000 - val_loss: 0.3851 - val_false_negatives_3: 47.0000 - 129ms/epoch - 3ms/step\n",
      "Epoch 10/50\n",
      "42/42 - 0s - loss: 0.3408 - false_negatives_3: 153.0000 - val_loss: 0.3982 - val_false_negatives_3: 47.0000 - 135ms/epoch - 3ms/step\n",
      "Epoch 11/50\n",
      "42/42 - 0s - loss: 0.3280 - false_negatives_3: 152.0000 - val_loss: 0.4060 - val_false_negatives_3: 47.0000 - 135ms/epoch - 3ms/step\n",
      "Epoch 12/50\n",
      "42/42 - 0s - loss: 0.3285 - false_negatives_3: 153.0000 - val_loss: 0.4362 - val_false_negatives_3: 47.0000 - 131ms/epoch - 3ms/step\n",
      "Epoch 13/50\n",
      "42/42 - 0s - loss: 0.3266 - false_negatives_3: 150.0000 - val_loss: 0.4060 - val_false_negatives_3: 47.0000 - 144ms/epoch - 3ms/step\n",
      "Epoch 14/50\n",
      "42/42 - 0s - loss: 0.3273 - false_negatives_3: 152.0000 - val_loss: 0.4025 - val_false_negatives_3: 47.0000 - 133ms/epoch - 3ms/step\n",
      "Epoch 15/50\n",
      "42/42 - 0s - loss: 0.3397 - false_negatives_3: 155.0000 - val_loss: 0.3843 - val_false_negatives_3: 47.0000 - 129ms/epoch - 3ms/step\n",
      "Epoch 16/50\n",
      "42/42 - 0s - loss: 0.3241 - false_negatives_3: 152.0000 - val_loss: 0.3907 - val_false_negatives_3: 47.0000 - 132ms/epoch - 3ms/step\n",
      "Epoch 17/50\n",
      "42/42 - 0s - loss: 0.3321 - false_negatives_3: 152.0000 - val_loss: 0.4017 - val_false_negatives_3: 47.0000 - 175ms/epoch - 4ms/step\n",
      "Epoch 18/50\n",
      "42/42 - 0s - loss: 0.3232 - false_negatives_3: 151.0000 - val_loss: 0.3900 - val_false_negatives_3: 46.0000 - 138ms/epoch - 3ms/step\n",
      "Epoch 19/50\n",
      "42/42 - 0s - loss: 0.3225 - false_negatives_3: 152.0000 - val_loss: 0.3940 - val_false_negatives_3: 46.0000 - 131ms/epoch - 3ms/step\n",
      "Epoch 20/50\n",
      "42/42 - 0s - loss: 0.3247 - false_negatives_3: 150.0000 - val_loss: 0.3876 - val_false_negatives_3: 47.0000 - 148ms/epoch - 4ms/step\n",
      "Epoch 21/50\n",
      "42/42 - 0s - loss: 0.3214 - false_negatives_3: 151.0000 - val_loss: 0.3903 - val_false_negatives_3: 47.0000 - 166ms/epoch - 4ms/step\n",
      "Epoch 22/50\n",
      "42/42 - 0s - loss: 0.3249 - false_negatives_3: 152.0000 - val_loss: 0.3871 - val_false_negatives_3: 47.0000 - 145ms/epoch - 3ms/step\n",
      "Epoch 23/50\n",
      "42/42 - 0s - loss: 0.3198 - false_negatives_3: 151.0000 - val_loss: 0.3856 - val_false_negatives_3: 47.0000 - 122ms/epoch - 3ms/step\n",
      "Epoch 24/50\n",
      "42/42 - 0s - loss: 0.3267 - false_negatives_3: 152.0000 - val_loss: 0.3899 - val_false_negatives_3: 47.0000 - 130ms/epoch - 3ms/step\n",
      "Epoch 25/50\n",
      "42/42 - 0s - loss: 0.3222 - false_negatives_3: 151.0000 - val_loss: 0.3960 - val_false_negatives_3: 48.0000 - 139ms/epoch - 3ms/step\n",
      "Epoch 26/50\n",
      "42/42 - 0s - loss: 0.3241 - false_negatives_3: 151.0000 - val_loss: 0.3865 - val_false_negatives_3: 47.0000 - 127ms/epoch - 3ms/step\n",
      "Epoch 27/50\n",
      "42/42 - 0s - loss: 0.3235 - false_negatives_3: 150.0000 - val_loss: 0.3827 - val_false_negatives_3: 47.0000 - 128ms/epoch - 3ms/step\n",
      "Epoch 28/50\n",
      "42/42 - 0s - loss: 0.3200 - false_negatives_3: 152.0000 - val_loss: 0.3923 - val_false_negatives_3: 46.0000 - 126ms/epoch - 3ms/step\n",
      "Epoch 29/50\n",
      "42/42 - 0s - loss: 0.3214 - false_negatives_3: 149.0000 - val_loss: 0.3847 - val_false_negatives_3: 46.0000 - 127ms/epoch - 3ms/step\n",
      "Epoch 30/50\n",
      "42/42 - 0s - loss: 0.3189 - false_negatives_3: 150.0000 - val_loss: 0.3912 - val_false_negatives_3: 47.0000 - 122ms/epoch - 3ms/step\n",
      "Epoch 31/50\n",
      "42/42 - 0s - loss: 0.3182 - false_negatives_3: 149.0000 - val_loss: 0.3918 - val_false_negatives_3: 47.0000 - 135ms/epoch - 3ms/step\n",
      "Epoch 32/50\n",
      "42/42 - 0s - loss: 0.3211 - false_negatives_3: 152.0000 - val_loss: 0.3909 - val_false_negatives_3: 46.0000 - 131ms/epoch - 3ms/step\n",
      "Epoch 33/50\n",
      "42/42 - 0s - loss: 0.3196 - false_negatives_3: 150.0000 - val_loss: 0.3895 - val_false_negatives_3: 47.0000 - 134ms/epoch - 3ms/step\n",
      "Epoch 34/50\n",
      "42/42 - 0s - loss: 0.3206 - false_negatives_3: 150.0000 - val_loss: 0.4061 - val_false_negatives_3: 47.0000 - 125ms/epoch - 3ms/step\n",
      "Epoch 35/50\n",
      "42/42 - 0s - loss: 0.3248 - false_negatives_3: 151.0000 - val_loss: 0.3824 - val_false_negatives_3: 46.0000 - 123ms/epoch - 3ms/step\n",
      "Epoch 36/50\n",
      "42/42 - 0s - loss: 0.3250 - false_negatives_3: 150.0000 - val_loss: 0.3902 - val_false_negatives_3: 46.0000 - 128ms/epoch - 3ms/step\n",
      "Epoch 37/50\n",
      "42/42 - 0s - loss: 0.3235 - false_negatives_3: 152.0000 - val_loss: 0.3937 - val_false_negatives_3: 46.0000 - 125ms/epoch - 3ms/step\n",
      "Epoch 38/50\n",
      "42/42 - 0s - loss: 0.3219 - false_negatives_3: 151.0000 - val_loss: 0.3938 - val_false_negatives_3: 46.0000 - 125ms/epoch - 3ms/step\n",
      "Epoch 39/50\n",
      "42/42 - 0s - loss: 0.3205 - false_negatives_3: 149.0000 - val_loss: 0.3889 - val_false_negatives_3: 46.0000 - 125ms/epoch - 3ms/step\n",
      "Epoch 40/50\n",
      "42/42 - 0s - loss: 0.3228 - false_negatives_3: 149.0000 - val_loss: 0.3844 - val_false_negatives_3: 46.0000 - 128ms/epoch - 3ms/step\n",
      "Epoch 41/50\n",
      "42/42 - 0s - loss: 0.3209 - false_negatives_3: 150.0000 - val_loss: 0.3825 - val_false_negatives_3: 46.0000 - 136ms/epoch - 3ms/step\n",
      "Epoch 42/50\n",
      "42/42 - 0s - loss: 0.3184 - false_negatives_3: 151.0000 - val_loss: 0.3922 - val_false_negatives_3: 46.0000 - 135ms/epoch - 3ms/step\n",
      "Epoch 43/50\n",
      "42/42 - 0s - loss: 0.3267 - false_negatives_3: 150.0000 - val_loss: 0.3806 - val_false_negatives_3: 47.0000 - 150ms/epoch - 4ms/step\n",
      "Epoch 44/50\n",
      "42/42 - 0s - loss: 0.3196 - false_negatives_3: 150.0000 - val_loss: 0.3839 - val_false_negatives_3: 46.0000 - 193ms/epoch - 5ms/step\n",
      "Epoch 45/50\n",
      "42/42 - 0s - loss: 0.3241 - false_negatives_3: 153.0000 - val_loss: 0.3859 - val_false_negatives_3: 47.0000 - 137ms/epoch - 3ms/step\n",
      "Epoch 46/50\n",
      "42/42 - 0s - loss: 0.3209 - false_negatives_3: 150.0000 - val_loss: 0.3926 - val_false_negatives_3: 46.0000 - 154ms/epoch - 4ms/step\n",
      "Epoch 47/50\n",
      "42/42 - 0s - loss: 0.3238 - false_negatives_3: 151.0000 - val_loss: 0.3844 - val_false_negatives_3: 46.0000 - 173ms/epoch - 4ms/step\n",
      "Epoch 48/50\n",
      "42/42 - 0s - loss: 0.3215 - false_negatives_3: 150.0000 - val_loss: 0.4020 - val_false_negatives_3: 46.0000 - 185ms/epoch - 4ms/step\n",
      "Epoch 49/50\n",
      "42/42 - 0s - loss: 0.3171 - false_negatives_3: 149.0000 - val_loss: 0.3824 - val_false_negatives_3: 46.0000 - 156ms/epoch - 4ms/step\n",
      "Epoch 50/50\n",
      "42/42 - 0s - loss: 0.3225 - false_negatives_3: 150.0000 - val_loss: 0.3896 - val_false_negatives_3: 47.0000 - 146ms/epoch - 3ms/step\n",
      "11/11 [==============================] - 0s 2ms/step - loss: 0.3896 - false_negatives_3: 47.0000\n"
     ]
    },
    {
     "data": {
      "image/png": "[encoded data removed]",
      "text/plain": [
       "<Figure size 432x288 with 2 Axes>"
      ]
     },
     "metadata": {
      "needs_background": "light"
     },
     "output_type": "display_data"
    },
    {
     "name": "stdout",
     "output_type": "stream",
     "text": [
      "[0.3896336257457733, 47.0]\n"
     ]
    }
   ],
   "source": [
    "\n",
    "\n",
    "#x_train, x_val, y_train, y_val = train_test_split(x,y, test_size =0.2, random_state=42)\n",
    "\n",
    "# set the paramters for the network\n",
    "batch_size = 32\n",
    "epochs = 50\n",
    "n_hidden_units = 128\n",
    "n_hidden_layers = 6\n",
    "\n",
    "# engineer the learning rate so that it works with floats as randrange only works with ints\n",
    "lr = .002\n",
    "\n",
    "# way to one hot encode the target variable into categorical variables\n",
    "y_train = keras.utils.to_categorical(y_train, len(np.unique(y)))\n",
    "y_val = keras.utils.to_categorical(y_test, len(np.unique(y)))\n",
    "\n",
    "\n",
    "# need to do [1:] to allow for dimensionality compatability\n",
    "a = b = keras.layers.Input(shape = x_train.shape[1:])\n",
    "\n",
    "print('****** With Normalization Layer *******')\n",
    "a = keras.layers.LayerNormalization(axis= -1)(a)\n",
    "\n",
    "a = keras.layers.Flatten()(a)\n",
    "\n",
    "\n",
    "print('Residual True')\n",
    "a = keras.layers.Dense(n_hidden_units)(a)\n",
    "for _ in range(n_hidden_layers):\n",
    "    a_resid = a\n",
    "    a = keras.layers.Dense(n_hidden_units, activation=keras.activations.relu)(a)\n",
    "    a = keras.layers.Add()([a, a_resid])\n",
    "\n",
    "# look at keras.activations options\n",
    "# make sure to functionalize the layer object so we pass tensors\n",
    "a = keras.layers.Dense(y_train.shape[1], activation = keras.activations.softmax)(a)\n",
    "\n",
    "# reset the model\n",
    "model = keras.Model(b,a)\n",
    "\n",
    "# Prep the model for -learning- \n",
    "### USE FALSE_NEGATIVES AS METRIC BECAUSE WE WANT TO MINIMIZE THIS METRIC\n",
    "model.compile(loss=keras.losses.BinaryCrossentropy(from_logits=True),\n",
    "optimizer='adam',\n",
    "metrics=[keras.metrics.FalseNegatives()])\n",
    "\n",
    "# urn off print because we will look at the best model\n",
    "history = model.fit(x_train, y_train,\n",
    "    batch_size = batch_size,\n",
    "    epochs = epochs,\n",
    "    verbose = 2,\n",
    "    validation_data = (x_test, y_val)\n",
    "            )\n",
    "# don't need to print out each evaluation\n",
    "score = model.evaluate(x_test, y_val, verbose = 1)\n",
    "\n",
    "plot_acc_loss(history)\n",
    "\n",
    "print(score)"
   ]
  },
  {
   "cell_type": "code",
   "execution_count": 62,
   "metadata": {},
   "outputs": [
    {
     "name": "stdout",
     "output_type": "stream",
     "text": [
      "11/11 [==============================] - 0s 1ms/step\n",
      "Accuracy of predictions:  86.01\n"
     ]
    },
    {
     "data": {
      "image/png": "[encoded data removed]",
      "text/plain": [
       "<Figure size 432x288 with 2 Axes>"
      ]
     },
     "metadata": {
      "needs_background": "light"
     },
     "output_type": "display_data"
    }
   ],
   "source": [
    "from sklearn import metrics\n",
    "\n",
    "threshold = 0.45\n",
    "\n",
    "\n",
    "output = model.predict(np.asarray(x_test).astype('float32'))\n",
    "\n",
    "output[output[:,1] > threshold] = [0,1]\n",
    "\n",
    "\n",
    "actual = np.argmax(y_val, axis=-1)\n",
    "predicted = np.argmax(output, axis=-1)\n",
    "\n",
    "incorrect = np.where(np.argmax(output,axis=-1) != np.argmax(y_val, axis=-1))\n",
    "correct = np.where(np.argmax(output,axis=-1) == np.argmax(y_val, axis=-1))\n",
    "print(\"Accuracy of predictions: \",round((np.size(correct) / (np.size(incorrect) + np.size(correct))) * 100,2))\n",
    "\n",
    "confusion_matrix = metrics.confusion_matrix(actual, predicted)\n",
    "\n",
    "cm_display = metrics.ConfusionMatrixDisplay(confusion_matrix = confusion_matrix, display_labels = [False, True])\n",
    "\n",
    "cm_display.plot()\n",
    "plt.show()\n"
   ]
  },
  {
   "attachments": {},
   "cell_type": "markdown",
   "metadata": {},
   "source": [
    "#### Using 'Unbalanced' data led to the network just predicting everything as 'False' which is basically worthless for our purposes"
   ]
  },
  {
   "attachments": {},
   "cell_type": "markdown",
   "metadata": {},
   "source": [
    "## USE BALANCED DATA NOW"
   ]
  },
  {
   "cell_type": "code",
   "execution_count": 63,
   "metadata": {},
   "outputs": [
    {
     "name": "stdout",
     "output_type": "stream",
     "text": [
      "****** With Normalization Layer *******\n",
      "Residual True\n",
      "Epoch 1/50\n",
      "75/75 - 2s - loss: 0.7448 - false_negatives_4: 861.0000 - val_loss: 0.6873 - val_false_negatives_4: 137.0000 - 2s/epoch - 28ms/step\n",
      "Epoch 2/50\n",
      "75/75 - 0s - loss: 0.6192 - false_negatives_4: 811.0000 - val_loss: 0.4486 - val_false_negatives_4: 59.0000 - 216ms/epoch - 3ms/step\n",
      "Epoch 3/50\n",
      "75/75 - 0s - loss: 0.6153 - false_negatives_4: 806.0000 - val_loss: 0.6710 - val_false_negatives_4: 155.0000 - 219ms/epoch - 3ms/step\n",
      "Epoch 4/50\n",
      "75/75 - 0s - loss: 0.6150 - false_negatives_4: 811.0000 - val_loss: 0.5250 - val_false_negatives_4: 83.0000 - 227ms/epoch - 3ms/step\n",
      "Epoch 5/50\n",
      "75/75 - 0s - loss: 0.6110 - false_negatives_4: 796.0000 - val_loss: 0.6035 - val_false_negatives_4: 114.0000 - 233ms/epoch - 3ms/step\n",
      "Epoch 6/50\n",
      "75/75 - 0s - loss: 0.6006 - false_negatives_4: 777.0000 - val_loss: 0.5288 - val_false_negatives_4: 94.0000 - 249ms/epoch - 3ms/step\n",
      "Epoch 7/50\n",
      "75/75 - 0s - loss: 0.6053 - false_negatives_4: 784.0000 - val_loss: 0.6950 - val_false_negatives_4: 146.0000 - 201ms/epoch - 3ms/step\n",
      "Epoch 8/50\n",
      "75/75 - 0s - loss: 0.5992 - false_negatives_4: 766.0000 - val_loss: 0.6485 - val_false_negatives_4: 117.0000 - 195ms/epoch - 3ms/step\n",
      "Epoch 9/50\n",
      "75/75 - 0s - loss: 0.5988 - false_negatives_4: 771.0000 - val_loss: 0.5468 - val_false_negatives_4: 97.0000 - 189ms/epoch - 3ms/step\n",
      "Epoch 10/50\n",
      "75/75 - 0s - loss: 0.5991 - false_negatives_4: 770.0000 - val_loss: 0.6387 - val_false_negatives_4: 113.0000 - 189ms/epoch - 3ms/step\n",
      "Epoch 11/50\n",
      "75/75 - 0s - loss: 0.5993 - false_negatives_4: 769.0000 - val_loss: 0.5166 - val_false_negatives_4: 86.0000 - 201ms/epoch - 3ms/step\n",
      "Epoch 12/50\n",
      "75/75 - 0s - loss: 0.6019 - false_negatives_4: 759.0000 - val_loss: 0.6967 - val_false_negatives_4: 125.0000 - 212ms/epoch - 3ms/step\n",
      "Epoch 13/50\n",
      "75/75 - 0s - loss: 0.5970 - false_negatives_4: 749.0000 - val_loss: 0.5541 - val_false_negatives_4: 96.0000 - 195ms/epoch - 3ms/step\n",
      "Epoch 14/50\n",
      "75/75 - 0s - loss: 0.5966 - false_negatives_4: 748.0000 - val_loss: 0.4867 - val_false_negatives_4: 67.0000 - 191ms/epoch - 3ms/step\n",
      "Epoch 15/50\n",
      "75/75 - 0s - loss: 0.6089 - false_negatives_4: 788.0000 - val_loss: 0.5652 - val_false_negatives_4: 104.0000 - 191ms/epoch - 3ms/step\n",
      "Epoch 16/50\n",
      "75/75 - 0s - loss: 0.5964 - false_negatives_4: 772.0000 - val_loss: 0.6484 - val_false_negatives_4: 123.0000 - 234ms/epoch - 3ms/step\n",
      "Epoch 17/50\n",
      "75/75 - 0s - loss: 0.5967 - false_negatives_4: 759.0000 - val_loss: 0.6856 - val_false_negatives_4: 140.0000 - 226ms/epoch - 3ms/step\n",
      "Epoch 18/50\n",
      "75/75 - 0s - loss: 0.5964 - false_negatives_4: 750.0000 - val_loss: 0.6180 - val_false_negatives_4: 116.0000 - 204ms/epoch - 3ms/step\n",
      "Epoch 19/50\n",
      "75/75 - 0s - loss: 0.5946 - false_negatives_4: 767.0000 - val_loss: 0.6348 - val_false_negatives_4: 118.0000 - 223ms/epoch - 3ms/step\n",
      "Epoch 20/50\n",
      "75/75 - 0s - loss: 0.5870 - false_negatives_4: 749.0000 - val_loss: 0.6528 - val_false_negatives_4: 122.0000 - 220ms/epoch - 3ms/step\n",
      "Epoch 21/50\n",
      "75/75 - 0s - loss: 0.5918 - false_negatives_4: 752.0000 - val_loss: 0.6850 - val_false_negatives_4: 128.0000 - 200ms/epoch - 3ms/step\n",
      "Epoch 22/50\n",
      "75/75 - 0s - loss: 0.5825 - false_negatives_4: 734.0000 - val_loss: 0.5563 - val_false_negatives_4: 101.0000 - 246ms/epoch - 3ms/step\n",
      "Epoch 23/50\n",
      "75/75 - 0s - loss: 0.5929 - false_negatives_4: 750.0000 - val_loss: 0.6500 - val_false_negatives_4: 114.0000 - 182ms/epoch - 2ms/step\n",
      "Epoch 24/50\n",
      "75/75 - 0s - loss: 0.5850 - false_negatives_4: 743.0000 - val_loss: 0.7789 - val_false_negatives_4: 140.0000 - 225ms/epoch - 3ms/step\n",
      "Epoch 25/50\n",
      "75/75 - 0s - loss: 0.5961 - false_negatives_4: 772.0000 - val_loss: 0.5470 - val_false_negatives_4: 104.0000 - 237ms/epoch - 3ms/step\n",
      "Epoch 26/50\n",
      "75/75 - 0s - loss: 0.5918 - false_negatives_4: 758.0000 - val_loss: 0.7215 - val_false_negatives_4: 129.0000 - 240ms/epoch - 3ms/step\n",
      "Epoch 27/50\n",
      "75/75 - 0s - loss: 0.5821 - false_negatives_4: 737.0000 - val_loss: 0.7062 - val_false_negatives_4: 118.0000 - 184ms/epoch - 2ms/step\n",
      "Epoch 28/50\n",
      "75/75 - 0s - loss: 0.5849 - false_negatives_4: 737.0000 - val_loss: 0.6001 - val_false_negatives_4: 107.0000 - 213ms/epoch - 3ms/step\n",
      "Epoch 29/50\n",
      "75/75 - 0s - loss: 0.5817 - false_negatives_4: 735.0000 - val_loss: 0.6138 - val_false_negatives_4: 108.0000 - 189ms/epoch - 3ms/step\n",
      "Epoch 30/50\n",
      "75/75 - 0s - loss: 0.5844 - false_negatives_4: 735.0000 - val_loss: 0.7062 - val_false_negatives_4: 146.0000 - 201ms/epoch - 3ms/step\n",
      "Epoch 31/50\n",
      "75/75 - 0s - loss: 0.5802 - false_negatives_4: 737.0000 - val_loss: 0.6121 - val_false_negatives_4: 109.0000 - 199ms/epoch - 3ms/step\n",
      "Epoch 32/50\n",
      "75/75 - 0s - loss: 0.5775 - false_negatives_4: 716.0000 - val_loss: 0.5547 - val_false_negatives_4: 92.0000 - 179ms/epoch - 2ms/step\n",
      "Epoch 33/50\n",
      "75/75 - 0s - loss: 0.5745 - false_negatives_4: 705.0000 - val_loss: 0.5694 - val_false_negatives_4: 103.0000 - 175ms/epoch - 2ms/step\n",
      "Epoch 34/50\n",
      "75/75 - 0s - loss: 0.5739 - false_negatives_4: 711.0000 - val_loss: 0.5742 - val_false_negatives_4: 106.0000 - 175ms/epoch - 2ms/step\n",
      "Epoch 35/50\n",
      "75/75 - 0s - loss: 0.5838 - false_negatives_4: 745.0000 - val_loss: 0.6350 - val_false_negatives_4: 133.0000 - 182ms/epoch - 2ms/step\n",
      "Epoch 36/50\n",
      "75/75 - 0s - loss: 0.5884 - false_negatives_4: 753.0000 - val_loss: 0.6077 - val_false_negatives_4: 110.0000 - 201ms/epoch - 3ms/step\n",
      "Epoch 37/50\n",
      "75/75 - 0s - loss: 0.5768 - false_negatives_4: 722.0000 - val_loss: 0.6098 - val_false_negatives_4: 103.0000 - 194ms/epoch - 3ms/step\n",
      "Epoch 38/50\n",
      "75/75 - 0s - loss: 0.5738 - false_negatives_4: 715.0000 - val_loss: 0.5914 - val_false_negatives_4: 106.0000 - 196ms/epoch - 3ms/step\n",
      "Epoch 39/50\n",
      "75/75 - 0s - loss: 0.5882 - false_negatives_4: 755.0000 - val_loss: 0.5507 - val_false_negatives_4: 90.0000 - 288ms/epoch - 4ms/step\n",
      "Epoch 40/50\n",
      "75/75 - 0s - loss: 0.5785 - false_negatives_4: 706.0000 - val_loss: 0.5689 - val_false_negatives_4: 97.0000 - 325ms/epoch - 4ms/step\n",
      "Epoch 41/50\n",
      "75/75 - 0s - loss: 0.5806 - false_negatives_4: 743.0000 - val_loss: 0.5926 - val_false_negatives_4: 110.0000 - 308ms/epoch - 4ms/step\n",
      "Epoch 42/50\n",
      "75/75 - 0s - loss: 0.5826 - false_negatives_4: 723.0000 - val_loss: 0.6179 - val_false_negatives_4: 107.0000 - 261ms/epoch - 3ms/step\n",
      "Epoch 43/50\n",
      "75/75 - 0s - loss: 0.5732 - false_negatives_4: 709.0000 - val_loss: 0.5456 - val_false_negatives_4: 93.0000 - 267ms/epoch - 4ms/step\n",
      "Epoch 44/50\n",
      "75/75 - 0s - loss: 0.5794 - false_negatives_4: 734.0000 - val_loss: 0.6355 - val_false_negatives_4: 105.0000 - 238ms/epoch - 3ms/step\n",
      "Epoch 45/50\n",
      "75/75 - 0s - loss: 0.5782 - false_negatives_4: 720.0000 - val_loss: 0.5809 - val_false_negatives_4: 106.0000 - 275ms/epoch - 4ms/step\n",
      "Epoch 46/50\n",
      "75/75 - 0s - loss: 0.5730 - false_negatives_4: 730.0000 - val_loss: 0.6102 - val_false_negatives_4: 121.0000 - 216ms/epoch - 3ms/step\n",
      "Epoch 47/50\n",
      "75/75 - 0s - loss: 0.5717 - false_negatives_4: 717.0000 - val_loss: 0.6237 - val_false_negatives_4: 110.0000 - 273ms/epoch - 4ms/step\n",
      "Epoch 48/50\n",
      "75/75 - 0s - loss: 0.5787 - false_negatives_4: 729.0000 - val_loss: 0.6421 - val_false_negatives_4: 112.0000 - 215ms/epoch - 3ms/step\n",
      "Epoch 49/50\n",
      "75/75 - 0s - loss: 0.5689 - false_negatives_4: 715.0000 - val_loss: 0.6779 - val_false_negatives_4: 130.0000 - 208ms/epoch - 3ms/step\n",
      "Epoch 50/50\n",
      "75/75 - 0s - loss: 0.5690 - false_negatives_4: 709.0000 - val_loss: 0.6184 - val_false_negatives_4: 109.0000 - 188ms/epoch - 3ms/step\n",
      "11/11 [==============================] - 0s 2ms/step - loss: 0.6184 - false_negatives_4: 109.0000\n"
     ]
    },
    {
     "data": {
      "image/png": "[encoded data removed]",
      "text/plain": [
       "<Figure size 432x288 with 2 Axes>"
      ]
     },
     "metadata": {
      "needs_background": "light"
     },
     "output_type": "display_data"
    },
    {
     "name": "stdout",
     "output_type": "stream",
     "text": [
      "[0.6183924674987793, 109.0]\n"
     ]
    }
   ],
   "source": [
    "\n",
    "\n",
    "#x_train, x_val, y_train, y_val = train_test_split(x,y, test_size =0.2, random_state=42)\n",
    "\n",
    "# set the paramters for the network\n",
    "batch_size = 32\n",
    "epochs = 50\n",
    "n_hidden_units = 128\n",
    "n_hidden_layers = 6\n",
    "\n",
    "# engineer the learning rate so that it works with floats as randrange only works with ints\n",
    "lr = .002\n",
    "\n",
    "# way to one hot encode the target variable into categorical variables\n",
    "y_bal_train = keras.utils.to_categorical(y_bal_train, len(np.unique(y)))\n",
    "y_val = keras.utils.to_categorical(y_test, len(np.unique(y)))\n",
    "\n",
    "\n",
    "# need to do [1:] to allow for dimensionality compatability\n",
    "a = b = keras.layers.Input(shape = x_bal_train.shape[1:])\n",
    "\n",
    "print('****** With Normalization Layer *******')\n",
    "a = keras.layers.LayerNormalization(axis= -1)(a)\n",
    "\n",
    "a = keras.layers.Flatten()(a)\n",
    "\n",
    "\n",
    "print('Residual True')\n",
    "a = keras.layers.Dense(n_hidden_units)(a)\n",
    "for _ in range(n_hidden_layers):\n",
    "    a_resid = a\n",
    "    a = keras.layers.Dense(n_hidden_units, activation=keras.activations.relu)(a)\n",
    "    a = keras.layers.Add()([a, a_resid])\n",
    "\n",
    "# look at keras.activations options\n",
    "# make sure to functionalize the layer object so we pass tensors\n",
    "a = keras.layers.Dense(y_bal_train.shape[1], activation = keras.activations.softmax)(a)\n",
    "\n",
    "# reset the model\n",
    "model = keras.Model(b,a)\n",
    "\n",
    "# Prep the model for -learning- \n",
    "### USE FALSE_NEGATIVES AS METRIC BECAUSE WE WANT TO MINIMIZE THIS METRIC\n",
    "model.compile(loss=keras.losses.BinaryCrossentropy(from_logits=True),\n",
    "optimizer='adam',\n",
    "metrics=[keras.metrics.FalseNegatives()])\n",
    "\n",
    "# urn off print because we will look at the best model\n",
    "history = model.fit(x_bal_train, y_bal_train,\n",
    "    batch_size = batch_size,\n",
    "    epochs = epochs,\n",
    "    verbose = 2,\n",
    "    validation_data = (x_test, y_val)\n",
    "            )\n",
    "# don't need to print out each evaluation\n",
    "score = model.evaluate(x_test, y_val, verbose = 1)\n",
    "\n",
    "plot_acc_loss(history)\n",
    "\n",
    "print(score)"
   ]
  },
  {
   "cell_type": "code",
   "execution_count": 64,
   "metadata": {},
   "outputs": [
    {
     "name": "stdout",
     "output_type": "stream",
     "text": [
      "11/11 [==============================] - 0s 1ms/step\n",
      "Accuracy of predictions:  65.77\n"
     ]
    },
    {
     "data": {
      "image/png": "[encoded data removed]",
      "text/plain": [
       "<Figure size 432x288 with 2 Axes>"
      ]
     },
     "metadata": {
      "needs_background": "light"
     },
     "output_type": "display_data"
    }
   ],
   "source": [
    "from sklearn import metrics\n",
    "\n",
    "threshold = 0.45\n",
    "\n",
    "\n",
    "output = model.predict(np.asarray(x_test).astype('float32'))\n",
    "\n",
    "output[output[:,1] > threshold] = [0,1]\n",
    "\n",
    "\n",
    "actual = np.argmax(y_val, axis=-1)\n",
    "predicted = np.argmax(output, axis=-1)\n",
    "\n",
    "incorrect = np.where(np.argmax(output,axis=-1) != np.argmax(y_val, axis=-1))\n",
    "correct = np.where(np.argmax(output,axis=-1) == np.argmax(y_val, axis=-1))\n",
    "print(\"Accuracy of predictions: \",round((np.size(correct) / (np.size(incorrect) + np.size(correct))) * 100,2))\n",
    "\n",
    "confusion_matrix = metrics.confusion_matrix(actual, predicted)\n",
    "\n",
    "cm_display = metrics.ConfusionMatrixDisplay(confusion_matrix = confusion_matrix, display_labels = [False, True])\n",
    "\n",
    "cm_display.plot()\n",
    "plt.show()\n",
    "\n"
   ]
  },
  {
   "attachments": {},
   "cell_type": "markdown",
   "metadata": {},
   "source": [
    "### Balancing the data greatly improved our metrics, but this type of network still vastly underperformed the log_r / xgboost models\n",
    "- I will not be using neural network in my model comparison in my run.py script"
   ]
  }
 ],
 "metadata": {
  "kernelspec": {
   "display_name": "Python 3.8.5 ('base')",
   "language": "python",
   "name": "python3"
  },
  "language_info": {
   "codemirror_mode": {
    "name": "ipython",
    "version": 3
   },
   "file_extension": ".py",
   "mimetype": "text/x-python",
   "name": "python",
   "nbconvert_exporter": "python",
   "pygments_lexer": "ipython3",
   "version": "3.8.5"
  },
  "orig_nbformat": 4,
  "vscode": {
   "interpreter": {
    "hash": "a74b6a200323c7ff9fb958487b2523ec46e5f6d52f4531a6be995daba14337f7"
   }
  }
 },
 "nbformat": 4,
 "nbformat_minor": 2
}
